{
 "cells": [
  {
   "cell_type": "markdown",
   "id": "af41d36a",
   "metadata": {},
   "source": [
    "문자열 수업 내용"
   ]
  },
  {
   "cell_type": "code",
   "execution_count": 1,
   "id": "105dc13c",
   "metadata": {},
   "outputs": [
    {
     "name": "stdout",
     "output_type": "stream",
     "text": [
      "안녕하세요\n",
      "안녕하세요\n"
     ]
    }
   ],
   "source": [
    "message1 = '안녕하세요'\n",
    "message2 = \"안녕하세요\"\n",
    "print(message1)\n",
    "print(message2)"
   ]
  },
  {
   "cell_type": "code",
   "execution_count": 2,
   "id": "cfc0dce0",
   "metadata": {},
   "outputs": [
    {
     "name": "stdout",
     "output_type": "stream",
     "text": [
      "이것은\n",
      "여러 줄로 이루어진\n",
      "문자열입니다\n"
     ]
    }
   ],
   "source": [
    "multiline_str = '''이것은\n",
    "여러 줄로 이루어진\n",
    "문자열입니다'''\n",
    "\n",
    "print(multiline_str)"
   ]
  },
  {
   "cell_type": "code",
   "execution_count": 3,
   "id": "38822d6e",
   "metadata": {},
   "outputs": [
    {
     "name": "stdout",
     "output_type": "stream",
     "text": [
      "Hello\n",
      "world\n"
     ]
    }
   ],
   "source": [
    "print('Hello\\nworld')"
   ]
  },
  {
   "cell_type": "code",
   "execution_count": 4,
   "id": "9d87cfce",
   "metadata": {},
   "outputs": [
    {
     "name": "stdout",
     "output_type": "stream",
     "text": [
      "tab\tspace\n"
     ]
    }
   ],
   "source": [
    "print('tab\\tspace')"
   ]
  },
  {
   "cell_type": "code",
   "execution_count": 5,
   "id": "85d882fe",
   "metadata": {},
   "outputs": [
    {
     "name": "stdout",
     "output_type": "stream",
     "text": [
      "나는 김태인입니다. 그는 말했다. \"배고프다\"\n"
     ]
    }
   ],
   "source": [
    "print('나는 김태인입니다. 그는 말했다. \"배고프다\"')"
   ]
  },
  {
   "cell_type": "code",
   "execution_count": 6,
   "id": "aa26f5a5",
   "metadata": {},
   "outputs": [
    {
     "name": "stdout",
     "output_type": "stream",
     "text": [
      "나는 김태인입니다. 그는 말했다. '배고프다'\n"
     ]
    }
   ],
   "source": [
    "print('나는 김태인입니다. 그는 말했다. \\'배고프다\\'')"
   ]
  },
  {
   "cell_type": "code",
   "execution_count": 7,
   "id": "a0991eec",
   "metadata": {},
   "outputs": [
    {
     "name": "stdout",
     "output_type": "stream",
     "text": [
      "C:\\Users\\Username\\Documents\n"
     ]
    }
   ],
   "source": [
    "path = r'C:\\Users\\Username\\Documents'\n",
    "print(path)"
   ]
  },
  {
   "cell_type": "code",
   "execution_count": 10,
   "id": "5f5704da",
   "metadata": {},
   "outputs": [
    {
     "name": "stdout",
     "output_type": "stream",
     "text": [
      "P\n",
      "t\n",
      "n\n"
     ]
    }
   ],
   "source": [
    "str1 = 'Python'\n",
    "\n",
    "print(str1[0])\n",
    "print(str1[2])\n",
    "print(str1[-1])"
   ]
  },
  {
   "cell_type": "code",
   "execution_count": null,
   "id": "4dea9644",
   "metadata": {},
   "outputs": [
    {
     "name": "stdout",
     "output_type": "stream",
     "text": [
      "Hello\n",
      "World!\n",
      "Hello\n",
      "World\n",
      "Hello, World!\n",
      "Hlo ol!\n"
     ]
    }
   ],
   "source": [
    "str2 = 'Hello, World!'\n",
    "\n",
    "print(str2[0:5])\n",
    "# 0번 인덱스부터 4번 인덱스까지 출력\n",
    "print(str2[7:])\n",
    "print(str2[:5])\n",
    "print(str2[-6:-1])\n",
    "print(str2[::])\n",
    "print(str2[::2])\n",
    "# 0번 인덱스부터 마지막 인덱스까지 2칸 간격으로 출력"
   ]
  },
  {
   "cell_type": "code",
   "execution_count": 14,
   "id": "18064817",
   "metadata": {},
   "outputs": [
    {
     "name": "stdout",
     "output_type": "stream",
     "text": [
      "Hel\n",
      "llo, World!\n"
     ]
    }
   ],
   "source": [
    "print(str2[:3])\n",
    "print(str2[2:])"
   ]
  },
  {
   "cell_type": "code",
   "execution_count": 15,
   "id": "0b0da4d4",
   "metadata": {},
   "outputs": [
    {
     "name": "stdout",
     "output_type": "stream",
     "text": [
      "Hello, World!\n"
     ]
    }
   ],
   "source": [
    "str1 = 'Hello'\n",
    "str2 = 'World'\n",
    "result = str1 + ', ' + str2 + '!'\n",
    "print(result)  # 'Hello, World!'"
   ]
  },
  {
   "cell_type": "code",
   "execution_count": 16,
   "id": "dfbbcf12",
   "metadata": {},
   "outputs": [
    {
     "name": "stdout",
     "output_type": "stream",
     "text": [
      "HaHaHa\n"
     ]
    }
   ],
   "source": [
    "str1 = 'Ha'\n",
    "print(str1 * 3)  # 'HaHaHa'"
   ]
  },
  {
   "cell_type": "code",
   "execution_count": 17,
   "id": "9c2e5fab",
   "metadata": {},
   "outputs": [
    {
     "name": "stdout",
     "output_type": "stream",
     "text": [
      "HELLO PYTHON PROGRAMMING\n",
      "hello python programming\n",
      "Hello python programming\n",
      "Hello Python Programming\n"
     ]
    }
   ],
   "source": [
    "str1 = 'hello python programming'\n",
    "\n",
    "print(str1.upper())\n",
    "print(str1.lower())\n",
    "print(str1.capitalize())\n",
    "print(str1.title())"
   ]
  },
  {
   "cell_type": "code",
   "execution_count": 19,
   "id": "1b721cf5",
   "metadata": {},
   "outputs": [
    {
     "name": "stdout",
     "output_type": "stream",
     "text": [
      "7\n",
      "7\n"
     ]
    }
   ],
   "source": [
    "str3 = 'I love Python programming. Python is fun!'\n",
    "\n",
    "print(str3.find('Python'))\n",
    "# 첫 인덱스 반환\n",
    "print(str3.index('Python'))"
   ]
  },
  {
   "cell_type": "code",
   "execution_count": 20,
   "id": "3135fb51",
   "metadata": {},
   "outputs": [
    {
     "name": "stdout",
     "output_type": "stream",
     "text": [
      "-1\n"
     ]
    }
   ],
   "source": [
    "print(str3.find('hello'))"
   ]
  },
  {
   "cell_type": "code",
   "execution_count": 21,
   "id": "00a59e26",
   "metadata": {},
   "outputs": [
    {
     "ename": "ValueError",
     "evalue": "substring not found",
     "output_type": "error",
     "traceback": [
      "\u001b[31m---------------------------------------------------------------------------\u001b[39m",
      "\u001b[31mValueError\u001b[39m                                Traceback (most recent call last)",
      "\u001b[36mCell\u001b[39m\u001b[36m \u001b[39m\u001b[32mIn[21]\u001b[39m\u001b[32m, line 1\u001b[39m\n\u001b[32m----> \u001b[39m\u001b[32m1\u001b[39m \u001b[38;5;28mprint\u001b[39m(\u001b[43mstr3\u001b[49m\u001b[43m.\u001b[49m\u001b[43mindex\u001b[49m\u001b[43m(\u001b[49m\u001b[33;43m'\u001b[39;49m\u001b[33;43mhello\u001b[39;49m\u001b[33;43m'\u001b[39;49m\u001b[43m)\u001b[49m)\n",
      "\u001b[31mValueError\u001b[39m: substring not found"
     ]
    }
   ],
   "source": [
    "print(str3.index('hello'))"
   ]
  },
  {
   "cell_type": "code",
   "execution_count": 23,
   "id": "9fb37249",
   "metadata": {},
   "outputs": [
    {
     "name": "stdout",
     "output_type": "stream",
     "text": [
      "I love Java programming. Java is fun!\n"
     ]
    }
   ],
   "source": [
    "java_str3 = str3.replace('Python','Java')\n",
    "print(java_str3)"
   ]
  },
  {
   "cell_type": "code",
   "execution_count": 26,
   "id": "3c2e6e0c",
   "metadata": {},
   "outputs": [
    {
     "name": "stdout",
     "output_type": "stream",
     "text": [
      "Hello, World!\n",
      "Hello, World!    \n",
      "    Hello, World!\n"
     ]
    }
   ],
   "source": [
    "str1 = '    Hello, World!    '\n",
    "\n",
    "print(str1.strip())\n",
    "print(str1.lstrip())\n",
    "print(str1.rstrip())"
   ]
  },
  {
   "cell_type": "code",
   "execution_count": 31,
   "id": "8162f7ac",
   "metadata": {},
   "outputs": [
    {
     "name": "stdout",
     "output_type": "stream",
     "text": [
      "['apple', 'banana', 'cherry']\n",
      "apple & banana & cherry\n"
     ]
    }
   ],
   "source": [
    "str2 = 'apple,banana,cherry'\n",
    "\n",
    "fruits = str2.split(',')\n",
    "print(fruits)\n",
    "\n",
    "result = ' & '.join(fruits)\n",
    "print(result)"
   ]
  },
  {
   "cell_type": "code",
   "execution_count": 8,
   "id": "72b8af5b",
   "metadata": {},
   "outputs": [
    {
     "name": "stdout",
     "output_type": "stream",
     "text": [
      "hello\n",
      "hello\n"
     ]
    }
   ],
   "source": [
    "str1 = 'Hello'\n",
    "\n",
    "print('h'+str1[1:])\n",
    "\n",
    "new_str = 'hello'\n",
    "print(new_str)"
   ]
  },
  {
   "cell_type": "markdown",
   "id": "2b1d4518",
   "metadata": {},
   "source": [
    "실습 문제 (문자열)"
   ]
  },
  {
   "cell_type": "code",
   "execution_count": 41,
   "id": "192e7b76",
   "metadata": {},
   "outputs": [
    {
     "name": "stdout",
     "output_type": "stream",
     "text": [
      "문자열을 입력하세요: Python\n",
      "첫 글자: P, 마지막 글자: n\n",
      "앞 3글자: Pyt, 뒤 3글자: hon\n",
      "nohtyP\n"
     ]
    }
   ],
   "source": [
    "A = input()\n",
    "print(f'문자열을 입력하세요: {A}')\n",
    "print(f'첫 글자: {A[0]}, 마지막 글자: {A[-1]}')\n",
    "print(f'앞 3글자: {A[:3]}, 뒤 3글자: {A[-3:]}')\n",
    "print(A[::-1])"
   ]
  },
  {
   "cell_type": "code",
   "execution_count": 63,
   "id": "fcf52dd8",
   "metadata": {},
   "outputs": [
    {
     "name": "stdout",
     "output_type": "stream",
     "text": [
      "정제된 문자열: i love python. python is powerful!\n",
      "'python' 개수: 2\n",
      "치환 결과: i love java. java is powerful!\n",
      "단어 리스트: ['i', 'love', 'python.', 'python', 'is', 'powerful!']\n"
     ]
    }
   ],
   "source": [
    "sentence = '  I love Python. Python is powerful!  '\n",
    "\n",
    "clean_sentence = sentence.strip().lower()\n",
    "print(f'정제된 문자열: {clean_sentence}')\n",
    "\n",
    "cnt_sentence = clean_sentence.count('python')\n",
    "print(f'\\'python\\' 개수: {cnt_sentence}')\n",
    "\n",
    "replace_sentence = clean_sentence.replace('python','java')\n",
    "print(f'치환 결과: {replace_sentence}')\n",
    "\n",
    "list_sentence = clean_sentence.split()\n",
    "print(f'단어 리스트: {list_sentence}')"
   ]
  },
  {
   "cell_type": "code",
   "execution_count": 2,
   "id": "8e3ced26",
   "metadata": {},
   "outputs": [
    {
     "name": "stdout",
     "output_type": "stream",
     "text": [
      "Hello Python!\n",
      "['apple', 'banana', 'cherry']\n",
      "apple | banana | cherry\n"
     ]
    }
   ],
   "source": [
    "A = 'Hello'\n",
    "B = 'Python'\n",
    "sentence = A + ' ' + B + '!'\n",
    "print(sentence)\n",
    "\n",
    "C = 'apple,banana,cherry'\n",
    "list_C = C.split(',')\n",
    "print(list_C)\n",
    "\n",
    "result = ' | '.join(list_C)\n",
    "print(result)"
   ]
  }
 ],
 "metadata": {
  "kernelspec": {
   "display_name": "Python 3",
   "language": "python",
   "name": "python3"
  },
  "language_info": {
   "codemirror_mode": {
    "name": "ipython",
    "version": 3
   },
   "file_extension": ".py",
   "mimetype": "text/x-python",
   "name": "python",
   "nbconvert_exporter": "python",
   "pygments_lexer": "ipython3",
   "version": "3.10.11"
  }
 },
 "nbformat": 4,
 "nbformat_minor": 5
}
