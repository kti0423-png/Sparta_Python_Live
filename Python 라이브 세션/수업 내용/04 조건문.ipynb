{
 "cells": [
  {
   "cell_type": "markdown",
   "id": "60819c59",
   "metadata": {},
   "source": [
    "조건문 수업 내용"
   ]
  },
  {
   "cell_type": "code",
   "execution_count": 4,
   "id": "1824e346",
   "metadata": {},
   "outputs": [],
   "source": [
    "age = 16\n",
    "\n",
    "if age >= 18:\n",
    "    print('성인입니다.')"
   ]
  },
  {
   "cell_type": "code",
   "execution_count": 5,
   "id": "881945fa",
   "metadata": {},
   "outputs": [],
   "source": [
    "x = 5\n",
    "\n",
    "if x > 10:\n",
    "    print('x는 10보다 큽니다.')"
   ]
  },
  {
   "cell_type": "code",
   "execution_count": 6,
   "id": "b042fe66",
   "metadata": {},
   "outputs": [
    {
     "name": "stdout",
     "output_type": "stream",
     "text": [
      "미성년자입니다.\n"
     ]
    }
   ],
   "source": [
    "age = 16\n",
    "\n",
    "if age >= 18:\n",
    "    print('성인입니다.')\n",
    "else:\n",
    "    print('미성년자입니다.')"
   ]
  },
  {
   "cell_type": "code",
   "execution_count": 11,
   "id": "7d03c9d9",
   "metadata": {},
   "outputs": [
    {
     "name": "stdout",
     "output_type": "stream",
     "text": [
      "F 학점\n"
     ]
    }
   ],
   "source": [
    "score = int(input('사용자의 점수를 입력하세요 : '))\n",
    "\n",
    "if score >= 90:\n",
    "    print('A 학점')\n",
    "elif score >= 80:\n",
    "    print('B 학점')\n",
    "elif score >= 70:\n",
    "    print('C 학점')\n",
    "elif score >= 60:\n",
    "    print('D 학점')\n",
    "else:\n",
    "    print('F 학점')"
   ]
  },
  {
   "cell_type": "code",
   "execution_count": 16,
   "id": "527f8ea2",
   "metadata": {},
   "outputs": [
    {
     "name": "stdout",
     "output_type": "stream",
     "text": [
      "x는 0보다 크고 10보다 작습니다.\n"
     ]
    }
   ],
   "source": [
    "x = 3\n",
    "\n",
    "if x > 0 and x < 10:\n",
    "    print('x는 0보다 크고 10보다 작습니다.')"
   ]
  },
  {
   "cell_type": "code",
   "execution_count": 17,
   "id": "710223a7",
   "metadata": {},
   "outputs": [],
   "source": [
    "if x < 0 or x > 5:\n",
    "    print('x는 0보다 작거나 5보다 큽니다.')"
   ]
  },
  {
   "cell_type": "code",
   "execution_count": 18,
   "id": "7c21d8b0",
   "metadata": {},
   "outputs": [
    {
     "name": "stdout",
     "output_type": "stream",
     "text": [
      "hello\n"
     ]
    }
   ],
   "source": [
    "\n",
    "if True:\n",
    "    print('hello')\n",
    "else:\n",
    "    print('no hello')"
   ]
  },
  {
   "cell_type": "code",
   "execution_count": 19,
   "id": "18179a56",
   "metadata": {},
   "outputs": [
    {
     "name": "stdout",
     "output_type": "stream",
     "text": [
      "비가 오지 않습니다\n"
     ]
    }
   ],
   "source": [
    "is_raining = False\n",
    "\n",
    "# not False -> True\n",
    "# not True -> False\n",
    "\n",
    "if not is_raining:\n",
    "    print('비가 오지 않습니다')"
   ]
  },
  {
   "cell_type": "code",
   "execution_count": 23,
   "id": "f30a5161",
   "metadata": {},
   "outputs": [
    {
     "data": {
      "text/plain": [
       "'합격'"
      ]
     },
     "execution_count": 23,
     "metadata": {},
     "output_type": "execute_result"
    }
   ],
   "source": [
    "score = 75\n",
    "'합격' if score >= 60 else '불합격'"
   ]
  },
  {
   "cell_type": "code",
   "execution_count": 25,
   "id": "e218592f",
   "metadata": {},
   "outputs": [
    {
     "name": "stdout",
     "output_type": "stream",
     "text": [
      "x와 y는 같다.\n"
     ]
    }
   ],
   "source": [
    "x = 10\n",
    "y = 10\n",
    "\n",
    "if x == y:\n",
    "    print('x와 y는 같다.')\n",
    "elif x != y:\n",
    "    print('x와 y는 같지 않다.')\n",
    "elif x < y:\n",
    "    print('x는 y보다 작다.')\n",
    "elif x > y:\n",
    "    print('x는 y보다 크다.')\n"
   ]
  },
  {
   "cell_type": "markdown",
   "id": "a20b80d2",
   "metadata": {},
   "source": [
    "#### = 은 변수 할당\n",
    "#### == 은 값 비교(같음)"
   ]
  },
  {
   "cell_type": "code",
   "execution_count": 27,
   "id": "cb5d4b84",
   "metadata": {},
   "outputs": [
    {
     "name": "stdout",
     "output_type": "stream",
     "text": [
      "짝수입니다.\n"
     ]
    }
   ],
   "source": [
    "num = int(input('숫자를 입력하세요 : '))\n",
    "\n",
    "if num % 2 == 0:\n",
    "    print('짝수입니다.')\n",
    "else:\n",
    "    print('홀수입니다.')"
   ]
  },
  {
   "cell_type": "code",
   "execution_count": 30,
   "id": "c906a538",
   "metadata": {},
   "outputs": [
    {
     "name": "stdout",
     "output_type": "stream",
     "text": [
      "존재하지 않는 계정입니다.\n"
     ]
    }
   ],
   "source": [
    "correct_id = 'admin'\n",
    "correct_pw = '1234'\n",
    "\n",
    "user_id = input('아이디를 입력해주세요 : ')\n",
    "user_pw = input('비밀번호를 입력하세요: ')\n",
    "\n",
    "if user_id == correct_id and user_pw == correct_pw:\n",
    "    print('로그인 성공!')\n",
    "elif user_id == correct_id and user_pw != correct_pw:\n",
    "    print('비밀번호가 틀렸습니다.')\n",
    "else:\n",
    "    print('존재하지 않는 계정입니다.')"
   ]
  },
  {
   "cell_type": "code",
   "execution_count": 34,
   "id": "1986d4c8",
   "metadata": {},
   "outputs": [
    {
     "name": "stdout",
     "output_type": "stream",
     "text": [
      "점수 범위가 벗어났습니다.\n"
     ]
    }
   ],
   "source": [
    "score = int(input(\"점수를 입력하세요 (0~100): \"))\n",
    "\n",
    "if score < 0 or score > 100:\n",
    "    print(\"점수 범위가 벗어났습니다.\")\n",
    "elif score >= 90:\n",
    "    print(\"A 학점\")\n",
    "elif score >= 80:\n",
    "    print(\"B 학점\")\n",
    "elif score >= 70:\n",
    "    print(\"C 학점\")\n",
    "elif score >= 60:\n",
    "    print(\"D 학점\")\n",
    "else:\n",
    "    print(\"F 학점\")"
   ]
  },
  {
   "cell_type": "code",
   "execution_count": 35,
   "id": "489cc605",
   "metadata": {},
   "outputs": [
    {
     "name": "stdout",
     "output_type": "stream",
     "text": [
      "0 이하입니다.\n"
     ]
    }
   ],
   "source": [
    "x = -1\n",
    "if x > 0:\n",
    "    pass\n",
    "else:\n",
    "    print('0 이하입니다.')"
   ]
  },
  {
   "cell_type": "code",
   "execution_count": 37,
   "id": "3b43ea61",
   "metadata": {},
   "outputs": [
    {
     "name": "stdout",
     "output_type": "stream",
     "text": [
      "사과가 있습니다.\n",
      "오렌지가 없습니다.\n"
     ]
    }
   ],
   "source": [
    "fruits = ['apple','banana','cherry']\n",
    "\n",
    "if 'apple' in fruits:\n",
    "    print('사과가 있습니다.')\n",
    "else:\n",
    "    print('사과가 없습니다.')\n",
    "\n",
    "if 'orange' not in fruits:\n",
    "    print('오렌지가 없습니다.')"
   ]
  },
  {
   "cell_type": "code",
   "execution_count": 41,
   "id": "85c925ec",
   "metadata": {},
   "outputs": [
    {
     "name": "stdout",
     "output_type": "stream",
     "text": [
      "성인 학생입니다.\n"
     ]
    }
   ],
   "source": [
    "age = 18\n",
    "is_student = True\n",
    "\n",
    "if age >= 18:\n",
    "    if is_student:\n",
    "        print('성인 학생입니다.')\n",
    "    else:\n",
    "        print('성인이지만 학생은 아닙니다.')\n",
    "else:\n",
    "    print('미성년자 입니다.')"
   ]
  },
  {
   "cell_type": "markdown",
   "id": "35fcb5de",
   "metadata": {},
   "source": [
    "실습 문제 (조건문)"
   ]
  },
  {
   "cell_type": "code",
   "execution_count": null,
   "id": "2c332710",
   "metadata": {},
   "outputs": [
    {
     "name": "stdout",
     "output_type": "stream",
     "text": [
      "요금은 12000원입니다.\n"
     ]
    }
   ],
   "source": [
    "age = int(input('나이를 입력하세요 : '))\n",
    "\n",
    "if age < 0 or age > 150:\n",
    "    print('잘못된 나이입니다.')\n",
    "elif age >= 65:\n",
    "    print('요금은 6000원입니다.')\n",
    "elif age >= 19:\n",
    "    print('요금은 12000원입니다.')\n",
    "elif age >= 7:\n",
    "    print('요금은 8000원입니다.')\n",
    "else:\n",
    "    print('요금은 무료입니다.')"
   ]
  },
  {
   "cell_type": "code",
   "execution_count": 48,
   "id": "a2ca1609",
   "metadata": {},
   "outputs": [
    {
     "name": "stdout",
     "output_type": "stream",
     "text": [
      "BMI: 24.3910588392529 -> 과체중\n"
     ]
    }
   ],
   "source": [
    "weight = float(input('몸무게를 입력하세요 : '))\n",
    "height = float(input('키를 입력하세요 : '))/100\n",
    "\n",
    "BMI = weight/(height**2)\n",
    "\n",
    "if weight <= 0 or height <= 0:\n",
    "    print('잘못된 입력입니다.')\n",
    "elif BMI >= 25:\n",
    "    print(f'BMI: {BMI} -> 비만')\n",
    "elif BMI >= 23:\n",
    "    print(f'BMI: {BMI} -> 과체중')\n",
    "elif BMI >= 18.5:\n",
    "    print(f'BMI: {BMI} -> 정상')\n",
    "else:\n",
    "    print(f'BMI: {BMI} -> 저체중')"
   ]
  },
  {
   "cell_type": "code",
   "execution_count": null,
   "id": "e260a4d0",
   "metadata": {},
   "outputs": [
    {
     "name": "stdout",
     "output_type": "stream",
     "text": [
      "일반 삼각형\n"
     ]
    }
   ],
   "source": [
    "a = int(input('첫 번째 변을 입력하세요 : '))\n",
    "b = int(input('두 번째 변을 입력하세요 : '))\n",
    "c = int(input('세 번째 변을 입력하세요 : '))\n",
    "\n",
    "if a<=0 or b<=0 or c<=0:\n",
    "    print('삼각형이 아닙니다.')\n",
    "elif a+b<=c or a+c<=b or b+c<=a:\n",
    "    print('삼각형이 아닙니다.')\n",
    "else:\n",
    "    if a**2+b**2==c**2 or a**2+c**2==b**2 or b**2+c**2==a**2:\n",
    "        print('직각삼각형')\n",
    "    elif a==b==c:\n",
    "        print('정삼각형')\n",
    "    elif a==b or a==c or b==c:\n",
    "        print('이등변삼각형')\n",
    "    else:\n",
    "        print('일반 삼각형')"
   ]
  }
 ],
 "metadata": {
  "kernelspec": {
   "display_name": "Python 3",
   "language": "python",
   "name": "python3"
  },
  "language_info": {
   "codemirror_mode": {
    "name": "ipython",
    "version": 3
   },
   "file_extension": ".py",
   "mimetype": "text/x-python",
   "name": "python",
   "nbconvert_exporter": "python",
   "pygments_lexer": "ipython3",
   "version": "3.10.11"
  }
 },
 "nbformat": 4,
 "nbformat_minor": 5
}
