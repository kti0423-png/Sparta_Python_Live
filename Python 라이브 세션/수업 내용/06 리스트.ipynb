{
 "cells": [
  {
   "cell_type": "markdown",
   "id": "1f0c73ee",
   "metadata": {},
   "source": [
    "리스트 수업 내용"
   ]
  },
  {
   "cell_type": "code",
   "execution_count": 1,
   "id": "f6f76136",
   "metadata": {},
   "outputs": [
    {
     "name": "stdout",
     "output_type": "stream",
     "text": [
      "[1, 'apple', 3.14, True]\n"
     ]
    }
   ],
   "source": [
    "test_list = []\n",
    "test_list = [1, 'apple', 3.14, True]\n",
    "\n",
    "print(test_list)"
   ]
  },
  {
   "cell_type": "code",
   "execution_count": 2,
   "id": "7bffd439",
   "metadata": {},
   "outputs": [
    {
     "name": "stdout",
     "output_type": "stream",
     "text": [
      "['h', 'e', 'l', 'l', 'o']\n"
     ]
    }
   ],
   "source": [
    "new_list = list('hello')\n",
    "print(new_list)"
   ]
  },
  {
   "cell_type": "code",
   "execution_count": 3,
   "id": "e50d7307",
   "metadata": {},
   "outputs": [
    {
     "name": "stdout",
     "output_type": "stream",
     "text": [
      "<class 'list'>\n"
     ]
    }
   ],
   "source": [
    "print(type(new_list))"
   ]
  },
  {
   "cell_type": "code",
   "execution_count": 4,
   "id": "4e5564bf",
   "metadata": {},
   "outputs": [
    {
     "name": "stdout",
     "output_type": "stream",
     "text": [
      "[1, 2, 3]\n",
      "<class 'list'>\n"
     ]
    }
   ],
   "source": [
    "new_list = list((1,2,3))\n",
    "print(new_list)\n",
    "print(type(new_list))"
   ]
  },
  {
   "cell_type": "code",
   "execution_count": 6,
   "id": "1806ce03",
   "metadata": {},
   "outputs": [
    {
     "name": "stdout",
     "output_type": "stream",
     "text": [
      "apple\n",
      "cherry\n",
      "date\n",
      "cherry\n"
     ]
    }
   ],
   "source": [
    "fruits = ['apple', 'banana', 'cherry', 'date']\n",
    "\n",
    "print(fruits[0])\n",
    "print(fruits[2])\n",
    "print(fruits[-1])\n",
    "print(fruits[-2])"
   ]
  },
  {
   "cell_type": "code",
   "execution_count": 10,
   "id": "7ae16664",
   "metadata": {},
   "outputs": [
    {
     "name": "stdout",
     "output_type": "stream",
     "text": [
      "[2, 3, 4]\n",
      "[0, 1, 2]\n",
      "[4, 5, 6]\n",
      "[0, 2, 4, 6]\n",
      "[6, 5, 4, 3, 2, 1, 0]\n"
     ]
    }
   ],
   "source": [
    "numbers = [0,1,2,3,4,5,6]\n",
    "\n",
    "print(numbers[2:5]) # [2,3,4]\n",
    "print(numbers[:3]) # [0,1,2]\n",
    "print(numbers[4:]) # [4,5,6]\n",
    "print(numbers[::2]) # [0,2,4,6]\n",
    "print(numbers[::-1]) # [6,5,4,3,2,1,0]"
   ]
  },
  {
   "cell_type": "code",
   "execution_count": 11,
   "id": "5744156a",
   "metadata": {},
   "outputs": [
    {
     "name": "stdout",
     "output_type": "stream",
     "text": [
      "['apple', 'blueberry', 'cherry']\n"
     ]
    }
   ],
   "source": [
    "fruits = ['apple','banana','cherry']\n",
    "fruits[1] = 'blueberry'\n",
    "print(fruits)"
   ]
  },
  {
   "cell_type": "code",
   "execution_count": 12,
   "id": "e2bb7961",
   "metadata": {},
   "outputs": [
    {
     "name": "stdout",
     "output_type": "stream",
     "text": [
      "[0, 9, 9, 3, 4, 5]\n"
     ]
    }
   ],
   "source": [
    "numbers = [0,1,2,3,4,5]\n",
    "numbers[1:3] = [9,9]\n",
    "print(numbers)"
   ]
  },
  {
   "cell_type": "code",
   "execution_count": 13,
   "id": "80756fe3",
   "metadata": {},
   "outputs": [
    {
     "name": "stdout",
     "output_type": "stream",
     "text": [
      "['apple', 'banana', 'cherry']\n"
     ]
    }
   ],
   "source": [
    "fruits = ['apple', 'banana']\n",
    "fruits.append('cherry')\n",
    "print(fruits)"
   ]
  },
  {
   "cell_type": "code",
   "execution_count": 14,
   "id": "85b66aec",
   "metadata": {},
   "outputs": [
    {
     "name": "stdout",
     "output_type": "stream",
     "text": [
      "['apple', 'blueberry', 'banana', 'cherry']\n"
     ]
    }
   ],
   "source": [
    "fruits.insert(1,'blueberry')\n",
    "print(fruits)"
   ]
  },
  {
   "cell_type": "code",
   "execution_count": 15,
   "id": "f224cbfa",
   "metadata": {},
   "outputs": [
    {
     "name": "stdout",
     "output_type": "stream",
     "text": [
      "['apple', 'blueberry', 'banana', 'cherry', 'date', 'fig']\n"
     ]
    }
   ],
   "source": [
    "fruits.extend(['date','fig'])\n",
    "print(fruits)"
   ]
  },
  {
   "cell_type": "code",
   "execution_count": 24,
   "id": "f5fc79e3",
   "metadata": {},
   "outputs": [
    {
     "ename": "ValueError",
     "evalue": "list.remove(x): x not in list",
     "output_type": "error",
     "traceback": [
      "\u001b[1;31m---------------------------------------------------------------------------\u001b[0m",
      "\u001b[1;31mValueError\u001b[0m                                Traceback (most recent call last)",
      "Cell \u001b[1;32mIn[24], line 1\u001b[0m\n\u001b[1;32m----> 1\u001b[0m \u001b[43mfruits\u001b[49m\u001b[38;5;241;43m.\u001b[39;49m\u001b[43mremove\u001b[49m\u001b[43m(\u001b[49m\u001b[38;5;124;43m'\u001b[39;49m\u001b[38;5;124;43mbanana\u001b[39;49m\u001b[38;5;124;43m'\u001b[39;49m\u001b[43m)\u001b[49m\n\u001b[0;32m      2\u001b[0m \u001b[38;5;28mprint\u001b[39m(fruits)\n",
      "\u001b[1;31mValueError\u001b[0m: list.remove(x): x not in list"
     ]
    }
   ],
   "source": [
    "fruits.remove('banana')\n",
    "print(fruits)"
   ]
  },
  {
   "cell_type": "code",
   "execution_count": null,
   "id": "d0738475",
   "metadata": {},
   "outputs": [
    {
     "name": "stdout",
     "output_type": "stream",
     "text": [
      "['apple']\n"
     ]
    }
   ],
   "source": [
    "pop_fruits = fruits.pop(2)\n",
    "print(fruits)\n",
    "print(pop_fruits)"
   ]
  },
  {
   "cell_type": "code",
   "execution_count": 25,
   "id": "4af3a239",
   "metadata": {},
   "outputs": [
    {
     "name": "stdout",
     "output_type": "stream",
     "text": [
      "1\n"
     ]
    }
   ],
   "source": [
    "numbers = [1,2,3,2,4]\n",
    "idx = numbers.index(2)\n",
    "print(idx)"
   ]
  },
  {
   "cell_type": "code",
   "execution_count": 26,
   "id": "66a93931",
   "metadata": {},
   "outputs": [
    {
     "name": "stdout",
     "output_type": "stream",
     "text": [
      "2\n"
     ]
    }
   ],
   "source": [
    "cnt = numbers.count(2)\n",
    "print(cnt)"
   ]
  },
  {
   "cell_type": "code",
   "execution_count": 27,
   "id": "7ecebd03",
   "metadata": {},
   "outputs": [
    {
     "name": "stdout",
     "output_type": "stream",
     "text": [
      "[1, 2, 5, 5, 6, 9]\n"
     ]
    }
   ],
   "source": [
    "numbers = [5,2,9,1,5,6]\n",
    "numbers.sort()\n",
    "print(numbers)"
   ]
  },
  {
   "cell_type": "code",
   "execution_count": 28,
   "id": "024f248f",
   "metadata": {},
   "outputs": [
    {
     "name": "stdout",
     "output_type": "stream",
     "text": [
      "[9, 6, 5, 5, 2, 1]\n"
     ]
    }
   ],
   "source": [
    "numbers.sort(reverse=True)\n",
    "print(numbers)"
   ]
  },
  {
   "cell_type": "code",
   "execution_count": 31,
   "id": "b454db8a",
   "metadata": {},
   "outputs": [
    {
     "name": "stdout",
     "output_type": "stream",
     "text": [
      "[1, 2, 5, 5, 6, 9]\n"
     ]
    }
   ],
   "source": [
    "numbers.reverse()\n",
    "print(numbers)"
   ]
  },
  {
   "cell_type": "code",
   "execution_count": 32,
   "id": "6ee98295",
   "metadata": {},
   "outputs": [
    {
     "name": "stdout",
     "output_type": "stream",
     "text": [
      "[1, 2, 3, 4, 5, 6]\n"
     ]
    }
   ],
   "source": [
    "list1 = [1, 2, 3]\n",
    "list2 = [4, 5, 6]\n",
    "result = list1 + list2\n",
    "print(result)"
   ]
  },
  {
   "cell_type": "code",
   "execution_count": null,
   "id": "7ac1428f",
   "metadata": {},
   "outputs": [
    {
     "name": "stdout",
     "output_type": "stream",
     "text": [
      "['a', 'b', 'a', 'b', 'a', 'b']\n"
     ]
    }
   ],
   "source": [
    "list1 = ['a','b']\n",
    "print(list1*3)"
   ]
  },
  {
   "cell_type": "code",
   "execution_count": 34,
   "id": "e3828c41",
   "metadata": {},
   "outputs": [
    {
     "name": "stdout",
     "output_type": "stream",
     "text": [
      "[4, 16, 36, 64, 100]\n"
     ]
    }
   ],
   "source": [
    "squares = [x**2 for x in range(1,11) if x % 2 == 0]\n",
    "print(squares)"
   ]
  },
  {
   "cell_type": "code",
   "execution_count": 35,
   "id": "d30402c7",
   "metadata": {},
   "outputs": [
    {
     "name": "stdout",
     "output_type": "stream",
     "text": [
      "[4, 16, 36, 64, 100]\n"
     ]
    }
   ],
   "source": [
    "squares = []\n",
    "for x in range(1,11):\n",
    "    if x % 2 == 0:\n",
    "        squares.append(x**2)\n",
    "print(squares)"
   ]
  },
  {
   "cell_type": "code",
   "execution_count": 36,
   "id": "826cd3ff",
   "metadata": {},
   "outputs": [
    {
     "name": "stdout",
     "output_type": "stream",
     "text": [
      "[5, 6, 6]\n"
     ]
    }
   ],
   "source": [
    "words = ['apple', 'banana', 'cherry']\n",
    "lengths = [len(word) for word in words]\n",
    "print(lengths)"
   ]
  },
  {
   "cell_type": "code",
   "execution_count": 37,
   "id": "63132d40",
   "metadata": {},
   "outputs": [
    {
     "name": "stdout",
     "output_type": "stream",
     "text": [
      "[5, 6, 6]\n"
     ]
    }
   ],
   "source": [
    "length = []\n",
    "for word in words:\n",
    "    length.append(len(word))\n",
    "print(length)"
   ]
  },
  {
   "cell_type": "code",
   "execution_count": 38,
   "id": "d77f4330",
   "metadata": {},
   "outputs": [
    {
     "name": "stdout",
     "output_type": "stream",
     "text": [
      "apple\n",
      "banana\n",
      "cherry\n"
     ]
    }
   ],
   "source": [
    "fruits = ['apple', 'banana', 'cherry']\n",
    "\n",
    "for fruit in fruits:\n",
    "    print(fruit)"
   ]
  },
  {
   "cell_type": "code",
   "execution_count": 39,
   "id": "d68c7db1",
   "metadata": {},
   "outputs": [
    {
     "name": "stdout",
     "output_type": "stream",
     "text": [
      "0 apple\n",
      "1 banana\n",
      "2 cherry\n"
     ]
    }
   ],
   "source": [
    "for idx, value in enumerate(fruits):\n",
    "    print(idx,value)"
   ]
  },
  {
   "cell_type": "code",
   "execution_count": 42,
   "id": "4195184f",
   "metadata": {},
   "outputs": [
    {
     "name": "stdout",
     "output_type": "stream",
     "text": [
      "[1, 2, 3]\n",
      "2\n",
      "7\n"
     ]
    }
   ],
   "source": [
    "matrix = [[1, 2, 3],[4, 5, 6],[7, 8, 9]]\n",
    "print(matrix[0])\n",
    "print(matrix[0][1])\n",
    "\n",
    "print(matrix[2][0])"
   ]
  },
  {
   "cell_type": "code",
   "execution_count": 46,
   "id": "96182071",
   "metadata": {},
   "outputs": [
    {
     "name": "stdout",
     "output_type": "stream",
     "text": [
      "[1, 2, [3, 4]]\n",
      "[1, 2, ['a', 4]]\n",
      "[1, 2, ['a', 4]]\n"
     ]
    }
   ],
   "source": [
    "original = [1, 2, [3, 4]]\n",
    "shallow_copy = original[:]\n",
    "print(shallow_copy)\n",
    "shallow_copy[2][0] = 'a'\n",
    "print(shallow_copy)\n",
    "print(original)"
   ]
  },
  {
   "cell_type": "code",
   "execution_count": 47,
   "id": "2a0aac93",
   "metadata": {},
   "outputs": [],
   "source": [
    "import copy\n",
    "\n",
    "original = [1, 2, [3, 4]]\n",
    "shallow_copy = copy.copy(original)"
   ]
  },
  {
   "cell_type": "code",
   "execution_count": 49,
   "id": "8b3705d9",
   "metadata": {},
   "outputs": [
    {
     "name": "stdout",
     "output_type": "stream",
     "text": [
      "[1, 2, ['a', 4]]\n",
      "[1, 2, [3, 4]]\n"
     ]
    }
   ],
   "source": [
    "import copy\n",
    "\n",
    "original = [1, 2, [3, 4]]\n",
    "deep_copy = copy.deepcopy(original)\n",
    "deep_copy[2][0] = 'a'\n",
    "print(deep_copy)\n",
    "print(original)"
   ]
  },
  {
   "cell_type": "code",
   "execution_count": 54,
   "id": "56a3cd0a",
   "metadata": {},
   "outputs": [
    {
     "name": "stdout",
     "output_type": "stream",
     "text": [
      "1842974968128\n",
      "1842974968128\n"
     ]
    }
   ],
   "source": [
    "a = [1,2,3]\n",
    "b = a\n",
    "print(id(a))\n",
    "print(id(b))"
   ]
  },
  {
   "cell_type": "code",
   "execution_count": 55,
   "id": "90d2135b",
   "metadata": {},
   "outputs": [
    {
     "name": "stdout",
     "output_type": "stream",
     "text": [
      "1842974968128\n",
      "1842974913856\n"
     ]
    }
   ],
   "source": [
    "b = a[:]\n",
    "print(id(a))\n",
    "print(id(b))"
   ]
  },
  {
   "cell_type": "markdown",
   "id": "609017a1",
   "metadata": {},
   "source": [
    "실습 문제 (리스트)"
   ]
  },
  {
   "cell_type": "code",
   "execution_count": 68,
   "id": "c3427c9f",
   "metadata": {},
   "outputs": [
    {
     "name": "stdout",
     "output_type": "stream",
     "text": [
      "['Busan', 'Incheon', 'Gwangju']\n",
      "['Gwangju', 'Incheon', 'Busan']\n",
      "['Gwangju', 'Incheon', 'Busan', 'Ulsan']\n"
     ]
    }
   ],
   "source": [
    "cities = [\"Seoul\", \"Busan\", \"Incheon\", \"Gwangju\", \"Daejeon\"]\n",
    "\n",
    "sub_cities = cities[1:4]\n",
    "print(sub_cities)\n",
    "reversed_cities = sub_cities[::-1]\n",
    "print(reversed_cities)\n",
    "reversed_cities.append(\"Ulsan\")\n",
    "print(reversed_cities)"
   ]
  },
  {
   "cell_type": "code",
   "execution_count": 69,
   "id": "51618617",
   "metadata": {},
   "outputs": [
    {
     "name": "stdout",
     "output_type": "stream",
     "text": [
      "['Gwangju', 'Incheon', 'Busan', 'Ulsan']\n"
     ]
    }
   ],
   "source": [
    "cities = [\"Seoul\", \"Busan\", \"Incheon\", \"Gwangju\", \"Daejeon\"]\n",
    "\n",
    "sub_cities = cities[1:4]\n",
    "sub_cities.reverse()\n",
    "sub_cities.append(\"Ulsan\")\n",
    "print(sub_cities)"
   ]
  },
  {
   "cell_type": "code",
   "execution_count": 87,
   "id": "fdcf95e8",
   "metadata": {},
   "outputs": [
    {
     "name": "stdout",
     "output_type": "stream",
     "text": [
      "[9, 81, 225, 441, 729]\n"
     ]
    }
   ],
   "source": [
    "result = [i**2 for i in range(1,31) if i%3==0 and i%2!=0]\n",
    "print(result)"
   ]
  },
  {
   "cell_type": "code",
   "execution_count": 71,
   "id": "37f0b0ae",
   "metadata": {},
   "outputs": [
    {
     "name": "stdout",
     "output_type": "stream",
     "text": [
      "30\n",
      "[10, 20, 30, 5, 7]\n",
      "14.4\n"
     ]
    }
   ],
   "source": [
    "new_list = [10,20,30,5,7]\n",
    "print(max(new_list))\n",
    "print(new_list)\n",
    "print(sum(new_list)/len(new_list))"
   ]
  },
  {
   "cell_type": "code",
   "execution_count": 86,
   "id": "52a4f214",
   "metadata": {},
   "outputs": [
    {
     "name": "stdout",
     "output_type": "stream",
     "text": [
      "정수를 입력하세요 (공백 구분): 10 20 30 5 7 \n",
      "최댓값: 30\n",
      "최솟값: 5\n",
      "평균: 14.4\n"
     ]
    }
   ],
   "source": [
    "A = map(int,input().split())\n",
    "list_A = list(A)\n",
    "input1 = ''\n",
    "for i in range(len(list_A)):\n",
    "    input1 += str(list_A[i]) + ' '\n",
    "print('정수를 입력하세요 (공백 구분):', input1, sep=' ')\n",
    "print(f'최댓값: {max(list_A)}')\n",
    "print(f'최솟값: {min(list_A)}')\n",
    "print(f'평균: {sum(list_A)/len(list_A)}')"
   ]
  }
 ],
 "metadata": {
  "kernelspec": {
   "display_name": "Python 3",
   "language": "python",
   "name": "python3"
  },
  "language_info": {
   "codemirror_mode": {
    "name": "ipython",
    "version": 3
   },
   "file_extension": ".py",
   "mimetype": "text/x-python",
   "name": "python",
   "nbconvert_exporter": "python",
   "pygments_lexer": "ipython3",
   "version": "3.10.11"
  }
 },
 "nbformat": 4,
 "nbformat_minor": 5
}
