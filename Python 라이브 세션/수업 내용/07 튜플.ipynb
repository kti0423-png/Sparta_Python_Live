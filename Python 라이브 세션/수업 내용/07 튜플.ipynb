{
 "cells": [
  {
   "cell_type": "markdown",
   "id": "85c11b0b",
   "metadata": {},
   "source": [
    "튜플 수업 내용"
   ]
  },
  {
   "cell_type": "code",
   "execution_count": 1,
   "id": "9660bc8e",
   "metadata": {},
   "outputs": [
    {
     "name": "stdout",
     "output_type": "stream",
     "text": [
      "(1, 2, 3)\n",
      "<class 'tuple'>\n"
     ]
    }
   ],
   "source": [
    "my_tuple = 1, 2, 3\n",
    "print(my_tuple)        # 출력: (1, 2, 3)\n",
    "print(type(my_tuple))  # 출력: <class 'tuple'>"
   ]
  },
  {
   "cell_type": "code",
   "execution_count": 2,
   "id": "66b5b011",
   "metadata": {},
   "outputs": [
    {
     "name": "stdout",
     "output_type": "stream",
     "text": [
      "('h', 'e', 'l', 'l', 'o')\n"
     ]
    }
   ],
   "source": [
    "string = 'hello'\n",
    "char_tuple = tuple(string)\n",
    "print(char_tuple)  # 출력: ('h', 'e', 'l', 'l', 'o')"
   ]
  },
  {
   "cell_type": "code",
   "execution_count": 3,
   "id": "6329a8f7",
   "metadata": {},
   "outputs": [
    {
     "name": "stdout",
     "output_type": "stream",
     "text": [
      "apple\n",
      "cherry\n",
      "date\n",
      "cherry\n"
     ]
    }
   ],
   "source": [
    "fruits = ('apple', 'banana', 'cherry', 'date')\n",
    "\n",
    "print(fruits[0])    # 출력: apple\n",
    "print(fruits[2])    # 출력: cherry\n",
    "print(fruits[-1])   # 출력: date (마지막 요소)\n",
    "print(fruits[-2])   # 출력: cherry"
   ]
  },
  {
   "cell_type": "code",
   "execution_count": 4,
   "id": "f507dc08",
   "metadata": {},
   "outputs": [
    {
     "name": "stdout",
     "output_type": "stream",
     "text": [
      "(2, 3, 4)\n",
      "(0, 1, 2)\n",
      "(4, 5, 6)\n",
      "(0, 2, 4, 6)\n",
      "(6, 5, 4, 3, 2, 1, 0)\n"
     ]
    }
   ],
   "source": [
    "numbers = (0, 1, 2, 3, 4, 5, 6)\n",
    "\n",
    "print(numbers[2:5])    # 출력: (2, 3, 4)\n",
    "print(numbers[:3])     # 출력: (0, 1, 2)\n",
    "print(numbers[4:])     # 출력: (4, 5, 6)\n",
    "print(numbers[::2])    # 출력: (0, 2, 4, 6)\n",
    "print(numbers[::-1])   # 출력: (6, 5, 4, 3, 2, 1, 0)"
   ]
  },
  {
   "cell_type": "code",
   "execution_count": 5,
   "id": "1515b162",
   "metadata": {},
   "outputs": [
    {
     "name": "stdout",
     "output_type": "stream",
     "text": [
      "(1, 2, 3, 4)\n"
     ]
    }
   ],
   "source": [
    "my_tuple = (1,2,3)\n",
    "my_tuple += (4,)\n",
    "print(my_tuple)"
   ]
  },
  {
   "cell_type": "code",
   "execution_count": 6,
   "id": "0cf26238",
   "metadata": {},
   "outputs": [
    {
     "name": "stdout",
     "output_type": "stream",
     "text": [
      "(1, 2, 3)\n",
      "(1, 2, 3, 4)\n"
     ]
    }
   ],
   "source": [
    "original_tuple = (1,2,3)\n",
    "new_tuple = original_tuple + (4,)\n",
    "print(original_tuple)\n",
    "print(new_tuple)"
   ]
  },
  {
   "cell_type": "code",
   "execution_count": 7,
   "id": "ec630f43",
   "metadata": {},
   "outputs": [
    {
     "name": "stdout",
     "output_type": "stream",
     "text": [
      "2\n",
      "3\n"
     ]
    }
   ],
   "source": [
    "numbers = (1, 2, 2, 3, 3, 3)\n",
    "print(numbers.count(2))  # 출력: 2\n",
    "print(numbers.count(3))  # 출력: 3"
   ]
  },
  {
   "cell_type": "code",
   "execution_count": 8,
   "id": "dcbf6e4b",
   "metadata": {},
   "outputs": [
    {
     "name": "stdout",
     "output_type": "stream",
     "text": [
      "1\n"
     ]
    }
   ],
   "source": [
    "fruits = ('apple', 'banana', 'cherry')\n",
    "print(fruits.index('banana'))  # 출력: 1"
   ]
  },
  {
   "cell_type": "code",
   "execution_count": 9,
   "id": "7d97e440",
   "metadata": {},
   "outputs": [
    {
     "name": "stdout",
     "output_type": "stream",
     "text": [
      "(10, 20)\n",
      "<class 'tuple'>\n"
     ]
    }
   ],
   "source": [
    "def get_position():\n",
    "    x = 10\n",
    "    y = 20\n",
    "    return x, y  # 튜플로 반환\n",
    "\n",
    "pos = get_position()\n",
    "print(pos)        # 출력: (10, 20)\n",
    "print(type(pos))  # 출력: <class 'tuple'>"
   ]
  },
  {
   "cell_type": "code",
   "execution_count": 10,
   "id": "441bc9b9",
   "metadata": {},
   "outputs": [
    {
     "name": "stdout",
     "output_type": "stream",
     "text": [
      "(1, 2, 3)\n"
     ]
    }
   ],
   "source": [
    "packed_tuple = 1, 2, 3\n",
    "print(packed_tuple)  # 출력: (1, 2, 3)"
   ]
  },
  {
   "cell_type": "code",
   "execution_count": 12,
   "id": "b7f6d8d9",
   "metadata": {},
   "outputs": [
    {
     "name": "stdout",
     "output_type": "stream",
     "text": [
      "1\n",
      "2\n",
      "3\n"
     ]
    }
   ],
   "source": [
    "a, b, c = packed_tuple\n",
    "print(a)  # 출력: 1\n",
    "print(b)  # 출력: 2\n",
    "print(c)  # 출력: 3"
   ]
  },
  {
   "cell_type": "code",
   "execution_count": 13,
   "id": "8e0be27b",
   "metadata": {},
   "outputs": [],
   "source": [
    "point = (10, 20)\n",
    "date = (2023, 9, 15)"
   ]
  },
  {
   "cell_type": "code",
   "execution_count": 14,
   "id": "1adffe05",
   "metadata": {},
   "outputs": [
    {
     "name": "stdout",
     "output_type": "stream",
     "text": [
      "(2, 3)\n",
      "(5, 6)\n",
      "5\n"
     ]
    }
   ],
   "source": [
    "nested_tuple = (1, (2, 3), (4, (5, 6)))\n",
    "print(nested_tuple[1])       # 출력: (2, 3)\n",
    "print(nested_tuple[2][1])    # 출력: (5, 6)\n",
    "print(nested_tuple[2][1][0]) # 출력: 5"
   ]
  },
  {
   "cell_type": "code",
   "execution_count": 15,
   "id": "e1ab40c4",
   "metadata": {},
   "outputs": [
    {
     "name": "stdout",
     "output_type": "stream",
     "text": [
      "apple\n",
      "banana\n",
      "cherry\n"
     ]
    }
   ],
   "source": [
    "fruits = ('apple', 'banana', 'cherry')\n",
    "\n",
    "for fruit in fruits:\n",
    "    print(fruit)"
   ]
  },
  {
   "cell_type": "code",
   "execution_count": 16,
   "id": "323169af",
   "metadata": {},
   "outputs": [
    {
     "name": "stdout",
     "output_type": "stream",
     "text": [
      "인덱스 0: apple\n",
      "인덱스 1: banana\n",
      "인덱스 2: cherry\n"
     ]
    }
   ],
   "source": [
    "for index, value in enumerate(fruits):\n",
    "    print(f'인덱스 {index}: {value}')"
   ]
  },
  {
   "cell_type": "code",
   "execution_count": 17,
   "id": "9fd82caa",
   "metadata": {},
   "outputs": [
    {
     "name": "stdout",
     "output_type": "stream",
     "text": [
      "True\n"
     ]
    }
   ],
   "source": [
    "tuple1 = (1, 2, 3)\n",
    "tuple2 = (1, 2, 4)\n",
    "\n",
    "print(tuple1 < tuple2)  # 출력: True"
   ]
  },
  {
   "cell_type": "code",
   "execution_count": 18,
   "id": "5e77c596",
   "metadata": {},
   "outputs": [
    {
     "name": "stdout",
     "output_type": "stream",
     "text": [
      "[('Dave', 'A', 10), ('Jane', 'B', 12), ('John', 'A', 15)]\n"
     ]
    }
   ],
   "source": [
    "# sorted 검색해서 찾아보세요!\n",
    "students = [('John', 'A', 15), ('Jane', 'B', 12), ('Dave', 'A', 10)]\n",
    "\n",
    "# 나이를 기준으로 정렬\n",
    "students_sorted = sorted(students, key=lambda student: student[2])\n",
    "print(students_sorted)\n",
    "# 출력: [('Dave', 'A', 10), ('Jane', 'B', 12), ('John', 'A', 15)]"
   ]
  },
  {
   "cell_type": "markdown",
   "id": "ec389e29",
   "metadata": {},
   "source": [
    "실습 문제 (튜플)"
   ]
  },
  {
   "cell_type": "code",
   "execution_count": 26,
   "id": "859edf05",
   "metadata": {},
   "outputs": [
    {
     "name": "stdout",
     "output_type": "stream",
     "text": [
      "교환 후: a=20, b=10\n"
     ]
    }
   ],
   "source": [
    "a, b = map(int,input('정수 두 개 입력 : ').split())\n",
    "\n",
    "a, b = b, a\n",
    "print(f'교환 후: a={a}, b={b}')"
   ]
  },
  {
   "cell_type": "code",
   "execution_count": 23,
   "id": "36f99d42",
   "metadata": {},
   "outputs": [
    {
     "name": "stdout",
     "output_type": "stream",
     "text": [
      "첫 3개 과일: ('사과', '배', '포도')\n",
      "마지막 3개 과일: ('바나나', '귤', '망고')\n",
      "짝수 인덱스 과일: ('사과', '포도', '바나나', '망고')\n"
     ]
    }
   ],
   "source": [
    "fruits = (\"사과\", \"배\", \"포도\", \"딸기\", \"바나나\", \"귤\", \"망고\")\n",
    "\n",
    "result1 = fruits[:3]\n",
    "result2 = fruits[-3:]\n",
    "result3 = fruits[::2]\n",
    "print(f'첫 3개 과일: {result1}')\n",
    "print(f'마지막 3개 과일: {result2}')\n",
    "print(f'짝수 인덱스 과일: {result3}')"
   ]
  }
 ],
 "metadata": {
  "kernelspec": {
   "display_name": "Python 3",
   "language": "python",
   "name": "python3"
  },
  "language_info": {
   "codemirror_mode": {
    "name": "ipython",
    "version": 3
   },
   "file_extension": ".py",
   "mimetype": "text/x-python",
   "name": "python",
   "nbconvert_exporter": "python",
   "pygments_lexer": "ipython3",
   "version": "3.10.11"
  }
 },
 "nbformat": 4,
 "nbformat_minor": 5
}
