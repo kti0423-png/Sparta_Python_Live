{
 "cells": [
  {
   "cell_type": "markdown",
   "id": "61d1dc0e",
   "metadata": {},
   "source": [
    "입출력 수업 내용"
   ]
  },
  {
   "cell_type": "code",
   "execution_count": 3,
   "id": "fa04fd88",
   "metadata": {},
   "outputs": [
    {
     "name": "stdout",
     "output_type": "stream",
     "text": [
      "안녕하세요 저는 김태인입니다\n"
     ]
    }
   ],
   "source": [
    "print(\"안녕하세요 저는 김태인입니다\")"
   ]
  },
  {
   "cell_type": "code",
   "execution_count": 6,
   "id": "75ea3bac",
   "metadata": {},
   "outputs": [
    {
     "name": "stdout",
     "output_type": "stream",
     "text": [
      "이름:  김태인 나이:  27\n"
     ]
    }
   ],
   "source": [
    "name = \"김태인\"\n",
    "age = 27\n",
    "print(\"이름: \",name,\"나이: \",age)"
   ]
  },
  {
   "cell_type": "code",
   "execution_count": 13,
   "id": "f57acc8e",
   "metadata": {},
   "outputs": [
    {
     "name": "stdout",
     "output_type": "stream",
     "text": [
      "이름 : 김태인 나이 : 27\n"
     ]
    }
   ],
   "source": [
    "name = \"김태인\"\n",
    "age = 27\n",
    "print(\"이름 : {} 나이 : {}\".format(name, age))"
   ]
  },
  {
   "cell_type": "code",
   "execution_count": 8,
   "id": "b8a6b0fd",
   "metadata": {},
   "outputs": [
    {
     "name": "stdout",
     "output_type": "stream",
     "text": [
      "이름은 김태인 입니다. 그리고 나이는 27살 입니다\n"
     ]
    }
   ],
   "source": [
    "name = \"김태인\"\n",
    "age = 27\n",
    "print(f'이름은 {name} 입니다. 그리고 나이는 {age}살 입니다')"
   ]
  },
  {
   "cell_type": "code",
   "execution_count": 11,
   "id": "14288a89",
   "metadata": {},
   "outputs": [
    {
     "name": "stdout",
     "output_type": "stream",
     "text": [
      "안녕하세요\n",
      "저는 김태인입니다\n"
     ]
    }
   ],
   "source": [
    "print('안녕하세요')\n",
    "print('저는 김태인입니다')"
   ]
  },
  {
   "cell_type": "code",
   "execution_count": 16,
   "id": "80946a26",
   "metadata": {},
   "outputs": [
    {
     "name": "stdout",
     "output_type": "stream",
     "text": [
      "안녕하세요! 저는 김태인입니다\n"
     ]
    }
   ],
   "source": [
    "print('안녕하세요!', end=' ')\n",
    "print('저는 김태인입니다')"
   ]
  },
  {
   "cell_type": "code",
   "execution_count": 1,
   "id": "99f38070",
   "metadata": {},
   "outputs": [
    {
     "name": "stdout",
     "output_type": "stream",
     "text": [
      "2023-10-05\n"
     ]
    }
   ],
   "source": [
    "print('2023','10','05', sep='-')"
   ]
  },
  {
   "cell_type": "code",
   "execution_count": 2,
   "id": "7160fd40",
   "metadata": {},
   "outputs": [],
   "source": [
    "with open(\"output.txt\",\"w\") as file:\n",
    "    print(\"이것은 파일에 쓰이는 내용입니다.\",file=file)"
   ]
  },
  {
   "cell_type": "code",
   "execution_count": 3,
   "id": "fe24be50",
   "metadata": {},
   "outputs": [
    {
     "name": "stdout",
     "output_type": "stream",
     "text": [
      "10 + 5 = 15\n",
      "10 - 5 = 5\n",
      "10 * 5 = 50\n",
      "10 / 5 = 2.0\n"
     ]
    }
   ],
   "source": [
    "num1 = 10\n",
    "num2 = 5\n",
    "print(f'{num1} + {num2} = {num1+num2}')\n",
    "print(f'{num1} - {num2} = {num1-num2}')\n",
    "print(f'{num1} * {num2} = {num1*num2}')\n",
    "print(f'{num1} / {num2} = {num1/num2}')"
   ]
  },
  {
   "cell_type": "code",
   "execution_count": 4,
   "id": "9d2df57c",
   "metadata": {},
   "outputs": [
    {
     "name": "stdout",
     "output_type": "stream",
     "text": [
      "안녕하세요! 😊\n"
     ]
    }
   ],
   "source": [
    "print(\"안녕하세요! 😊\")"
   ]
  },
  {
   "cell_type": "code",
   "execution_count": 6,
   "id": "829d1750",
   "metadata": {},
   "outputs": [
    {
     "name": "stdout",
     "output_type": "stream",
     "text": [
      "안녕하세요, 김태인님!\n"
     ]
    }
   ],
   "source": [
    "name = input(\"이름을 입력하세요 : \")\n",
    "print(f'안녕하세요, {name}님!')"
   ]
  },
  {
   "cell_type": "code",
   "execution_count": 7,
   "id": "5ef9cf97",
   "metadata": {},
   "outputs": [
    {
     "name": "stdout",
     "output_type": "stream",
     "text": [
      "내년에는 28살이 되십니다.\n"
     ]
    }
   ],
   "source": [
    "age = int(input(\"나이를 입력하세요: \"))\n",
    "print(f'내년에는 {age + 1}살이 되십니다.')"
   ]
  },
  {
   "cell_type": "code",
   "execution_count": 8,
   "id": "5e404c29",
   "metadata": {},
   "outputs": [
    {
     "name": "stdout",
     "output_type": "stream",
     "text": [
      "당신의 키는 173.1 cm 입니다.\n"
     ]
    }
   ],
   "source": [
    "height = float(input(\"키를 입력하세요: \"))\n",
    "print(f'당신의 키는 {height} cm 입니다.')"
   ]
  },
  {
   "cell_type": "code",
   "execution_count": 10,
   "id": "227fe137",
   "metadata": {},
   "outputs": [
    {
     "name": "stdout",
     "output_type": "stream",
     "text": [
      "['사과', '바나나', '오렌지']\n"
     ]
    }
   ],
   "source": [
    "data = input('과일 이름들을 입력하세요(쉼표로 구분): ')\n",
    "fruits = data.split(',')\n",
    "print(fruits)"
   ]
  },
  {
   "cell_type": "code",
   "execution_count": 11,
   "id": "879284ad",
   "metadata": {},
   "outputs": [
    {
     "name": "stdout",
     "output_type": "stream",
     "text": [
      "13 22\n"
     ]
    }
   ],
   "source": [
    "number1, number2 = map(int, input().split())\n",
    "print(number1,number2)"
   ]
  },
  {
   "cell_type": "code",
   "execution_count": 12,
   "id": "aa6a2839",
   "metadata": {},
   "outputs": [
    {
     "name": "stdout",
     "output_type": "stream",
     "text": [
      "[1, 2, 3, 4, 5, 6, 7, 8, 9, 10]\n"
     ]
    }
   ],
   "source": [
    "number_list = list(map(int, input().split()))\n",
    "print(number_list)"
   ]
  },
  {
   "cell_type": "code",
   "execution_count": 14,
   "id": "4d6f8695",
   "metadata": {},
   "outputs": [
    {
     "name": "stdout",
     "output_type": "stream",
     "text": [
      "유효한 정수를 입력해주세요.\n"
     ]
    }
   ],
   "source": [
    "try:\n",
    "    num = int(input(\"정수를 입력하세요: \"))\n",
    "except ValueError:\n",
    "    print(\"유효한 정수를 입력해주세요.\")\n",
    "else:\n",
    "    print(f\"입력한 정수: {num}\")"
   ]
  },
  {
   "cell_type": "code",
   "execution_count": 15,
   "id": "8fe2ca3f",
   "metadata": {},
   "outputs": [
    {
     "name": "stdout",
     "output_type": "stream",
     "text": [
      "10.0 + 10.0 = 20.0\n",
      "10.0 - 10.0 = 0.0\n",
      "10.0 * 10.0 = 100.0\n",
      "10.0 / 10.0 = 1.0\n"
     ]
    }
   ],
   "source": [
    "num1 = float(input(\"첫 번째 숫자를 입력하세요: \"))\n",
    "num2 = float(input(\"두 번째 숫자를 입력하세요: \"))\n",
    "\n",
    "print(f\"{num1} + {num2} = {num1 + num2}\")\n",
    "print(f\"{num1} - {num2} = {num1 - num2}\")\n",
    "print(f\"{num1} * {num2} = {num1 * num2}\")\n",
    "print(f\"{num1} / {num2} = {num1 / num2}\")"
   ]
  },
  {
   "cell_type": "markdown",
   "id": "acd2f311",
   "metadata": {},
   "source": [
    "실습 문제 (입출력)"
   ]
  },
  {
   "cell_type": "code",
   "execution_count": 2,
   "id": "2f2286ef",
   "metadata": {},
   "outputs": [
    {
     "name": "stdout",
     "output_type": "stream",
     "text": [
      "이름: 김태인 | 나이: 27\n"
     ]
    }
   ],
   "source": [
    "name = input()\n",
    "age = int(input())\n",
    "print(f'이름: {name} | 나이: {age}')"
   ]
  },
  {
   "cell_type": "code",
   "execution_count": 17,
   "id": "30541c0d",
   "metadata": {},
   "outputs": [
    {
     "name": "stdout",
     "output_type": "stream",
     "text": [
      "1;2;3;4;5!"
     ]
    }
   ],
   "source": [
    "print(1,2,3,4,5,sep=';',end='!')"
   ]
  },
  {
   "cell_type": "code",
   "execution_count": 1,
   "id": "8924e0b4",
   "metadata": {},
   "outputs": [
    {
     "name": "stdout",
     "output_type": "stream",
     "text": [
      "10 + 3 = 13\n",
      "10 - 3 = 7\n"
     ]
    }
   ],
   "source": [
    "A,B = map(int,input(\"두 수를 입력하세요(공백으로 구분):\").split())\n",
    "print(f'{A} + {B} = {A+B}')\n",
    "print(f'{A} - {B} = {A-B}')"
   ]
  }
 ],
 "metadata": {
  "kernelspec": {
   "display_name": "Python 3",
   "language": "python",
   "name": "python3"
  },
  "language_info": {
   "codemirror_mode": {
    "name": "ipython",
    "version": 3
   },
   "file_extension": ".py",
   "mimetype": "text/x-python",
   "name": "python",
   "nbconvert_exporter": "python",
   "pygments_lexer": "ipython3",
   "version": "3.10.11"
  }
 },
 "nbformat": 4,
 "nbformat_minor": 5
}
