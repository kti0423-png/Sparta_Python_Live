{
 "cells": [
  {
   "cell_type": "markdown",
   "id": "6186021f",
   "metadata": {},
   "source": [
    "딕셔너리 수업 내용"
   ]
  },
  {
   "cell_type": "markdown",
   "id": "4c90eb12",
   "metadata": {},
   "source": []
  }
 ],
 "metadata": {
  "kernelspec": {
   "display_name": "Python 3",
   "language": "python",
   "name": "python3"
  },
  "language_info": {
   "name": "python",
   "version": "3.10.11"
  }
 },
 "nbformat": 4,
 "nbformat_minor": 5
}
