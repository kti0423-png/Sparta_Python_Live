{
 "cells": [
  {
   "cell_type": "markdown",
   "id": "2e31f642",
   "metadata": {},
   "source": [
    "반복문 수업 내용"
   ]
  },
  {
   "cell_type": "code",
   "execution_count": 2,
   "id": "27e2b7ec",
   "metadata": {},
   "outputs": [
    {
     "name": "stdout",
     "output_type": "stream",
     "text": [
      "1\n",
      "2\n",
      "3\n",
      "4\n",
      "5\n"
     ]
    }
   ],
   "source": [
    "numbers = [1,2,3,4,5]\n",
    "\n",
    "for num in numbers:\n",
    "    print(num)"
   ]
  },
  {
   "cell_type": "code",
   "execution_count": 3,
   "id": "cc12946a",
   "metadata": {},
   "outputs": [
    {
     "name": "stdout",
     "output_type": "stream",
     "text": [
      "현재 i의 값: 0\n",
      "현재 i의 값: 1\n",
      "현재 i의 값: 2\n",
      "현재 i의 값: 3\n",
      "현재 i의 값: 4\n"
     ]
    }
   ],
   "source": [
    "for i in range(5):\n",
    "    print('현재 i의 값:', i)"
   ]
  },
  {
   "cell_type": "code",
   "execution_count": 4,
   "id": "614894db",
   "metadata": {},
   "outputs": [
    {
     "name": "stdout",
     "output_type": "stream",
     "text": [
      "1\n",
      "3\n",
      "5\n",
      "7\n",
      "9\n"
     ]
    }
   ],
   "source": [
    "for i in range(1,11,2):\n",
    "    print(i)"
   ]
  },
  {
   "cell_type": "code",
   "execution_count": 5,
   "id": "319b782a",
   "metadata": {},
   "outputs": [
    {
     "name": "stdout",
     "output_type": "stream",
     "text": [
      "10\n",
      "8\n",
      "6\n",
      "4\n",
      "2\n"
     ]
    }
   ],
   "source": [
    "for j in range(10,0,-2):\n",
    "    print(j)"
   ]
  },
  {
   "cell_type": "code",
   "execution_count": 6,
   "id": "8ee03ca9",
   "metadata": {},
   "outputs": [
    {
     "name": "stdout",
     "output_type": "stream",
     "text": [
      "P\n",
      "y\n",
      "t\n",
      "h\n",
      "o\n",
      "n\n"
     ]
    }
   ],
   "source": [
    "text = 'Python'\n",
    "for ch in text:\n",
    "    print(ch)"
   ]
  },
  {
   "cell_type": "code",
   "execution_count": 9,
   "id": "1402c70d",
   "metadata": {},
   "outputs": [
    {
     "name": "stdout",
     "output_type": "stream",
     "text": [
      "1\n",
      "2\n",
      "3\n",
      "4\n",
      "5\n"
     ]
    }
   ],
   "source": [
    "count = 1\n",
    "while count <= 5:\n",
    "    print(count)\n",
    "    count += 1"
   ]
  },
  {
   "cell_type": "code",
   "execution_count": 10,
   "id": "57d40ca2",
   "metadata": {},
   "outputs": [
    {
     "name": "stdout",
     "output_type": "stream",
     "text": [
      "입력하신 명령:  hi\n",
      "입력하신 명령:  hello\n",
      "입력하신 명령:  kimtaein\n",
      "입력하신 명령:  quit\n"
     ]
    }
   ],
   "source": [
    "user_input = ''\n",
    "while user_input != 'quit':\n",
    "    user_input = input('명령을 입력하세요 (quit을 입력하면 종료): ')\n",
    "    print('입력하신 명령: ',user_input)"
   ]
  },
  {
   "cell_type": "code",
   "execution_count": 11,
   "id": "0b035393",
   "metadata": {},
   "outputs": [
    {
     "name": "stdout",
     "output_type": "stream",
     "text": [
      "1\n",
      "2\n",
      "3\n",
      "4\n"
     ]
    }
   ],
   "source": [
    "for i in range(1,11):\n",
    "    if i == 5:\n",
    "        break\n",
    "    print(i)"
   ]
  },
  {
   "cell_type": "code",
   "execution_count": 12,
   "id": "d37ae908",
   "metadata": {},
   "outputs": [
    {
     "name": "stdout",
     "output_type": "stream",
     "text": [
      "1\n",
      "2\n",
      "3\n",
      "4\n",
      "6\n",
      "7\n",
      "8\n",
      "9\n",
      "10\n"
     ]
    }
   ],
   "source": [
    "for i in range(1,11):\n",
    "    if i == 5:\n",
    "        continue\n",
    "    print(i)"
   ]
  },
  {
   "cell_type": "code",
   "execution_count": 14,
   "id": "7e2751e8",
   "metadata": {},
   "outputs": [
    {
     "name": "stdout",
     "output_type": "stream",
     "text": [
      "2 * 1 = 2\n",
      "2 * 2 = 4\n",
      "2 * 3 = 6\n",
      "2 * 4 = 8\n",
      "2 * 5 = 10\n",
      "2 * 6 = 12\n",
      "2 * 7 = 14\n",
      "2 * 8 = 16\n",
      "2 * 9 = 18\n",
      "\n",
      "3 * 1 = 3\n",
      "3 * 2 = 6\n",
      "3 * 3 = 9\n",
      "3 * 4 = 12\n",
      "3 * 5 = 15\n",
      "3 * 6 = 18\n",
      "3 * 7 = 21\n",
      "3 * 8 = 24\n",
      "3 * 9 = 27\n",
      "\n",
      "4 * 1 = 4\n",
      "4 * 2 = 8\n",
      "4 * 3 = 12\n",
      "4 * 4 = 16\n",
      "4 * 5 = 20\n",
      "4 * 6 = 24\n",
      "4 * 7 = 28\n",
      "4 * 8 = 32\n",
      "4 * 9 = 36\n",
      "\n",
      "5 * 1 = 5\n",
      "5 * 2 = 10\n",
      "5 * 3 = 15\n",
      "5 * 4 = 20\n",
      "5 * 5 = 25\n",
      "5 * 6 = 30\n",
      "5 * 7 = 35\n",
      "5 * 8 = 40\n",
      "5 * 9 = 45\n",
      "\n",
      "6 * 1 = 6\n",
      "6 * 2 = 12\n",
      "6 * 3 = 18\n",
      "6 * 4 = 24\n",
      "6 * 5 = 30\n",
      "6 * 6 = 36\n",
      "6 * 7 = 42\n",
      "6 * 8 = 48\n",
      "6 * 9 = 54\n",
      "\n",
      "7 * 1 = 7\n",
      "7 * 2 = 14\n",
      "7 * 3 = 21\n",
      "7 * 4 = 28\n",
      "7 * 5 = 35\n",
      "7 * 6 = 42\n",
      "7 * 7 = 49\n",
      "7 * 8 = 56\n",
      "7 * 9 = 63\n",
      "\n",
      "8 * 1 = 8\n",
      "8 * 2 = 16\n",
      "8 * 3 = 24\n",
      "8 * 4 = 32\n",
      "8 * 5 = 40\n",
      "8 * 6 = 48\n",
      "8 * 7 = 56\n",
      "8 * 8 = 64\n",
      "8 * 9 = 72\n",
      "\n",
      "9 * 1 = 9\n",
      "9 * 2 = 18\n",
      "9 * 3 = 27\n",
      "9 * 4 = 36\n",
      "9 * 5 = 45\n",
      "9 * 6 = 54\n",
      "9 * 7 = 63\n",
      "9 * 8 = 72\n",
      "9 * 9 = 81\n",
      "\n"
     ]
    }
   ],
   "source": [
    "for dan in range(2,10):\n",
    "    for num in range(1,10):\n",
    "        print(f'{dan} * {num} = {dan*num}')\n",
    "    print()\n"
   ]
  },
  {
   "cell_type": "code",
   "execution_count": 18,
   "id": "9d651b45",
   "metadata": {},
   "outputs": [
    {
     "name": "stdout",
     "output_type": "stream",
     "text": [
      "10\n",
      "30\n",
      "60\n",
      "100\n",
      "150\n",
      "리스트 내 숫자들의 합: 150\n"
     ]
    }
   ],
   "source": [
    "numbers = [10,20,30,40,50]\n",
    "total = 0\n",
    "\n",
    "for num in numbers:\n",
    "    total+=num\n",
    "    print(total)\n",
    "print('리스트 내 숫자들의 합:',total)"
   ]
  },
  {
   "cell_type": "code",
   "execution_count": 19,
   "id": "b80de095",
   "metadata": {},
   "outputs": [
    {
     "name": "stdout",
     "output_type": "stream",
     "text": [
      "*\n",
      "**\n",
      "***\n",
      "****\n",
      "*****\n"
     ]
    }
   ],
   "source": [
    "height = 5\n",
    "for i in range(1,height+1):\n",
    "    print('*'*i)"
   ]
  },
  {
   "cell_type": "code",
   "execution_count": 20,
   "id": "147474cd",
   "metadata": {},
   "outputs": [
    {
     "name": "stdout",
     "output_type": "stream",
     "text": [
      "0: a\n",
      "1: p\n",
      "2: p\n",
      "3: l\n",
      "4: e\n"
     ]
    }
   ],
   "source": [
    "fruits = 'apple'\n",
    "\n",
    "for idx, fruit_char in enumerate(fruits):\n",
    "    print(f'{idx}: {fruit_char}')"
   ]
  },
  {
   "cell_type": "code",
   "execution_count": 21,
   "id": "8dfab09e",
   "metadata": {},
   "outputs": [
    {
     "name": "stdout",
     "output_type": "stream",
     "text": [
      "0: apple\n",
      "1: banana\n",
      "2: watermelon\n"
     ]
    }
   ],
   "source": [
    "fruits = ['apple','banana','watermelon']\n",
    "\n",
    "for idx, fruit_char in enumerate(fruits):\n",
    "    print(f'{idx}: {fruit_char}')"
   ]
  },
  {
   "cell_type": "code",
   "execution_count": 22,
   "id": "ed821574",
   "metadata": {},
   "outputs": [
    {
     "name": "stdout",
     "output_type": "stream",
     "text": [
      "apple: 1000원\n",
      "banana: 2000원\n",
      "cherry: 3000원\n"
     ]
    }
   ],
   "source": [
    "fruits = [\"apple\", \"banana\", \"cherry\"]\n",
    "prices = [1000, 2000, 3000]\n",
    "\n",
    "for fruit, price in zip(fruits, prices):\n",
    "    print(f\"{fruit}: {price}원\")"
   ]
  },
  {
   "cell_type": "markdown",
   "id": "24c6987f",
   "metadata": {},
   "source": [
    "실습 문제 (반복문)"
   ]
  },
  {
   "cell_type": "code",
   "execution_count": 49,
   "id": "c12022f5",
   "metadata": {},
   "outputs": [
    {
     "name": "stdout",
     "output_type": "stream",
     "text": [
      "12의 약수: 1 2 3 4 6 12 "
     ]
    }
   ],
   "source": [
    "n = int(input('정수를 입력하세요: '))\n",
    "\n",
    "print(f'{n}의 약수:', end=' ')\n",
    "for i in range(1,n+1):\n",
    "    if n%i==0:\n",
    "        print(i, end=' ')\n",
    "\n"
   ]
  },
  {
   "cell_type": "code",
   "execution_count": 62,
   "id": "7748bd6a",
   "metadata": {},
   "outputs": [
    {
     "name": "stdout",
     "output_type": "stream",
     "text": [
      "olleh"
     ]
    }
   ],
   "source": [
    "A = input('문자열을 입력하세요: ')\n",
    "\n",
    "for i in range(-1,-(len(A)+1),-1):\n",
    "    print(A[i],end='')\n"
   ]
  },
  {
   "cell_type": "code",
   "execution_count": 48,
   "id": "71b3cb24",
   "metadata": {},
   "outputs": [
    {
     "name": "stdout",
     "output_type": "stream",
     "text": [
      "범위를 벗어났습니다.\n",
      "틀렸습니다. 다시 입력하세요.\n",
      "틀렸습니다. 다시 입력하세요.\n",
      "틀렸습니다. 다시 입력하세요.\n",
      "틀렸습니다. 다시 입력하세요.\n",
      "범위를 벗어났습니다.\n",
      "정답입니다!\n"
     ]
    }
   ],
   "source": [
    "answer = 5\n",
    "\n",
    "while True:\n",
    "    user_input = int(input('정수를 입력하세요(1~10): '))\n",
    "    if user_input > 10 or user_input < 1:\n",
    "        print('범위를 벗어났습니다.')\n",
    "    elif user_input != answer:\n",
    "        print('틀렸습니다. 다시 입력하세요.')\n",
    "    else:\n",
    "        print('정답입니다!')\n",
    "        break"
   ]
  }
 ],
 "metadata": {
  "kernelspec": {
   "display_name": "Python 3",
   "language": "python",
   "name": "python3"
  },
  "language_info": {
   "codemirror_mode": {
    "name": "ipython",
    "version": 3
   },
   "file_extension": ".py",
   "mimetype": "text/x-python",
   "name": "python",
   "nbconvert_exporter": "python",
   "pygments_lexer": "ipython3",
   "version": "3.10.11"
  }
 },
 "nbformat": 4,
 "nbformat_minor": 5
}
