{
 "cells": [
  {
   "cell_type": "markdown",
   "id": "a967f70e",
   "metadata": {},
   "source": [
    "변수 수업 내용"
   ]
  },
  {
   "cell_type": "code",
   "execution_count": 2,
   "id": "fae664dd",
   "metadata": {},
   "outputs": [
    {
     "name": "stdout",
     "output_type": "stream",
     "text": [
      "<class 'int'>\n",
      "<class 'float'>\n",
      "<class 'str'>\n",
      "<class 'bool'>\n"
     ]
    }
   ],
   "source": [
    "age = 25\n",
    "height = 175.5\n",
    "name = '김태인'\n",
    "is_student = True\n",
    "print(type(age))\n",
    "print(type(height))\n",
    "print(type(name))\n",
    "print(type(is_student))"
   ]
  },
  {
   "cell_type": "code",
   "execution_count": 5,
   "id": "dfc25169",
   "metadata": {},
   "outputs": [
    {
     "name": "stdout",
     "output_type": "stream",
     "text": [
      "20\n",
      "10\n",
      "75\n",
      "3.0\n",
      "0\n",
      "3\n"
     ]
    }
   ],
   "source": [
    "a = 15\n",
    "b = 5\n",
    "\n",
    "print(a+b)\n",
    "print(a-b)\n",
    "print(a*b)\n",
    "print(a/b)\n",
    "print(a%b)\n",
    "print(a//b)"
   ]
  },
  {
   "cell_type": "code",
   "execution_count": 7,
   "id": "423b2ea7",
   "metadata": {},
   "outputs": [
    {
     "name": "stdout",
     "output_type": "stream",
     "text": [
      "홍길동\n",
      "홍길동홍길동홍길동\n"
     ]
    }
   ],
   "source": [
    "first_name = '홍'\n",
    "last_name = '길동'\n",
    "\n",
    "full_name = first_name + last_name\n",
    "print(full_name)\n",
    "\n",
    "repeat_name = full_name * 3\n",
    "print(repeat_name)"
   ]
  },
  {
   "cell_type": "code",
   "execution_count": 12,
   "id": "b54432ab",
   "metadata": {},
   "outputs": [
    {
     "name": "stdout",
     "output_type": "stream",
     "text": [
      "우산이 필요 없습니다.\n"
     ]
    }
   ],
   "source": [
    "is_raining = False\n",
    "\n",
    "if is_raining:\n",
    "    print('우산을 가져가세요.')\n",
    "else:\n",
    "    print('우산이 필요 없습니다.')\n"
   ]
  },
  {
   "cell_type": "code",
   "execution_count": 14,
   "id": "136cad9e",
   "metadata": {},
   "outputs": [
    {
     "name": "stdout",
     "output_type": "stream",
     "text": [
      "반갑습니다, 김태인님!\n",
      "반갑습니다, 김태인님!\n"
     ]
    }
   ],
   "source": [
    "name = input('이름을 입력하세요: ')\n",
    "print('반갑습니다, ' + name + '님!')\n",
    "print(f'반갑습니다, {name}님!')"
   ]
  },
  {
   "cell_type": "code",
   "execution_count": 15,
   "id": "e54b5fdf",
   "metadata": {},
   "outputs": [
    {
     "name": "stdout",
     "output_type": "stream",
     "text": [
      "<class 'str'>\n",
      "<class 'int'>\n",
      "<class 'str'>\n"
     ]
    }
   ],
   "source": [
    "age = input(\"나이를 입력하세요: \")\n",
    "print(type(age))  # 출력: <class 'str'>\n",
    "\n",
    "# 정수로 변환\n",
    "age = int(age)\n",
    "print(type(age))  # 출력: <class 'int'>\n",
    "\n",
    "age = str(age)\n",
    "print(type(age))"
   ]
  },
  {
   "cell_type": "code",
   "execution_count": 16,
   "id": "05e1e90e",
   "metadata": {},
   "outputs": [
    {
     "name": "stdout",
     "output_type": "stream",
     "text": [
      "2 4 6\n"
     ]
    }
   ],
   "source": [
    "a,b,c = 2,4,6\n",
    "print(a,b,c)"
   ]
  },
  {
   "cell_type": "code",
   "execution_count": 17,
   "id": "8ebd9088",
   "metadata": {},
   "outputs": [
    {
     "name": "stdout",
     "output_type": "stream",
     "text": [
      "3 3 3\n"
     ]
    }
   ],
   "source": [
    "x=y=z=3\n",
    "print(x,y,z)"
   ]
  },
  {
   "cell_type": "code",
   "execution_count": 19,
   "id": "96e8d49c",
   "metadata": {},
   "outputs": [
    {
     "name": "stdout",
     "output_type": "stream",
     "text": [
      "전역 변수\n"
     ]
    }
   ],
   "source": [
    "global_var = \"전역 변수\"\n",
    "\n",
    "def func():\n",
    "    print(global_var)\n",
    "\n",
    "func()  # 출력: 전역 변수"
   ]
  },
  {
   "cell_type": "code",
   "execution_count": 20,
   "id": "31477b0c",
   "metadata": {},
   "outputs": [
    {
     "name": "stdout",
     "output_type": "stream",
     "text": [
      "지역 변수\n"
     ]
    },
    {
     "ename": "NameError",
     "evalue": "name 'local_var' is not defined",
     "output_type": "error",
     "traceback": [
      "\u001b[31m---------------------------------------------------------------------------\u001b[39m",
      "\u001b[31mNameError\u001b[39m                                 Traceback (most recent call last)",
      "\u001b[36mCell\u001b[39m\u001b[36m \u001b[39m\u001b[32mIn[20]\u001b[39m\u001b[32m, line 6\u001b[39m\n\u001b[32m      3\u001b[39m     \u001b[38;5;28mprint\u001b[39m(local_var)\n\u001b[32m      5\u001b[39m func()         \u001b[38;5;66;03m# 출력: 지역 변수\u001b[39;00m\n\u001b[32m----> \u001b[39m\u001b[32m6\u001b[39m \u001b[38;5;28mprint\u001b[39m(\u001b[43mlocal_var\u001b[49m)  \u001b[38;5;66;03m# 오류 발생: NameError: name 'local_var' is not\u001b[39;00m\n",
      "\u001b[31mNameError\u001b[39m: name 'local_var' is not defined"
     ]
    }
   ],
   "source": [
    "def func():\n",
    "    local_var = \"지역 변수\"\n",
    "    print(local_var)\n",
    "\n",
    "func()         # 출력: 지역 변수\n",
    "print(local_var)  # 오류 발생: NameError: name 'local_var' is not"
   ]
  },
  {
   "cell_type": "markdown",
   "id": "ece27b71",
   "metadata": {},
   "source": [
    "실습 문제 (변수)"
   ]
  },
  {
   "cell_type": "code",
   "execution_count": 26,
   "id": "9178c1f4",
   "metadata": {},
   "outputs": [
    {
     "name": "stdout",
     "output_type": "stream",
     "text": [
      "값: 42, 타입: <class 'int'>\n",
      "값: 3.14, 타입: <class 'float'>\n",
      "값: Python, 타입: <class 'str'>\n"
     ]
    }
   ],
   "source": [
    "a = 42\n",
    "b = 3.14\n",
    "c = 'Python'\n",
    "\n",
    "print(f'값: {a}, 타입:', type(a))\n",
    "print(f'값: {b}, 타입:', type(b))\n",
    "print(f'값: {c}, 타입:', type(c))"
   ]
  },
  {
   "cell_type": "code",
   "execution_count": 30,
   "id": "0e674d98",
   "metadata": {},
   "outputs": [
    {
     "name": "stdout",
     "output_type": "stream",
     "text": [
      "a=5, b=7, c=9 -> 평균: 7.0\n"
     ]
    }
   ],
   "source": [
    "a,b,c = 5,7,9\n",
    "avg = float((a+b+c)/3)\n",
    "\n",
    "print(f'a={a}, b={b}, c={c} -> 평균: {avg}')"
   ]
  },
  {
   "cell_type": "code",
   "execution_count": 33,
   "id": "a6c2c456",
   "metadata": {},
   "outputs": [
    {
     "name": "stdout",
     "output_type": "stream",
     "text": [
      "예상 출력 :\n",
      "이름을 입력하세요: 김태인\n",
      "좋아하는 프로그래밍 언어를 입력하세요: Python\n",
      "김태인은 Python을 좋아합니다!\n",
      "김태인은 Python을 좋아합니다!김태인은 Python을 좋아합니다!김태인은 Python을 좋아합니다!\n"
     ]
    }
   ],
   "source": [
    "name,language = input().split()\n",
    "\n",
    "print('예상 출력 :')\n",
    "print(f'이름을 입력하세요: {name}')\n",
    "print(f'좋아하는 프로그래밍 언어를 입력하세요: {language}')\n",
    "print(f'{name}은 {language}을 좋아합니다!')\n",
    "print(f'{name}은 {language}을 좋아합니다!'*3)"
   ]
  }
 ],
 "metadata": {
  "kernelspec": {
   "display_name": "Python 3",
   "language": "python",
   "name": "python3"
  },
  "language_info": {
   "codemirror_mode": {
    "name": "ipython",
    "version": 3
   },
   "file_extension": ".py",
   "mimetype": "text/x-python",
   "name": "python",
   "nbconvert_exporter": "python",
   "pygments_lexer": "ipython3",
   "version": "3.10.11"
  }
 },
 "nbformat": 4,
 "nbformat_minor": 5
}
