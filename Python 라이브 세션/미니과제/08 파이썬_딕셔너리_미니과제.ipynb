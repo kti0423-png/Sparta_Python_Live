{
 "cells": [
  {
   "cell_type": "markdown",
   "metadata": {},
   "source": [
    "## 문제 1\n",
    "다음과 같은 정보를 담은 딕셔너리 person을 생성하고, 'name' 키를 이용해 값을 출력하세요.\n",
    "\n",
    "- 키: 'name', 값: '홍길동'\n",
    "- 키: 'age', 값: 30\n",
    "- 키: 'city', 값: '서울'"
   ]
  },
  {
   "cell_type": "code",
   "execution_count": null,
   "metadata": {},
   "outputs": [],
   "source": []
  },
  {
   "cell_type": "markdown",
   "metadata": {},
   "source": [
    "## 문제 2\n",
    "다음 딕셔너리 person = {'name': '홍길동', 'age': 30}가 있을 때, 'city' 키에 해당하는 값을 get() 메서드를 사용하여 가져오되, 키가 없을 경우 'Unknown'을 반환하도록 하세요."
   ]
  },
  {
   "cell_type": "code",
   "execution_count": null,
   "metadata": {},
   "outputs": [],
   "source": []
  },
  {
   "cell_type": "markdown",
   "metadata": {},
   "source": [
    "## 문제 3\n",
    "car = {'brand': 'Ford', 'model': 'Mustang'}가 있을 때, 'year' 키를 1964로 추가하고, 'model' 값을 'Thunderbird'로 변경하세요."
   ]
  },
  {
   "cell_type": "code",
   "execution_count": null,
   "metadata": {},
   "outputs": [],
   "source": []
  },
  {
   "cell_type": "markdown",
   "metadata": {},
   "source": [
    "## 문제 4\n",
    "문제: fruit = {'apple': 2, 'banana': 3, 'cherry': 5}가 있을 때, 'banana' 키-값 쌍을 제거하고, 제거된 값을 출력한 뒤 딕셔너리를 확인하세요."
   ]
  },
  {
   "cell_type": "code",
   "execution_count": null,
   "metadata": {},
   "outputs": [],
   "source": []
  },
  {
   "cell_type": "markdown",
   "metadata": {},
   "source": [
    "## 문제 5\n",
    "person = {'name': 'Alice', 'age': 25, 'city': 'New York'}에 대하여, key 값들과, value 값들, 그리고 key와 value 값 동시(items)에 출력하세요."
   ]
  },
  {
   "cell_type": "code",
   "execution_count": null,
   "metadata": {},
   "outputs": [],
   "source": []
  },
  {
   "cell_type": "markdown",
   "metadata": {},
   "source": [
    "## 문제 6\n",
    "문제: d = {'a': 1, 'b': 2}가 있을 때, 다른 딕셔너리 d2 = {'b': 3, 'c': 4} 로 업데이트하고, 결과를 출력하세요."
   ]
  },
  {
   "cell_type": "code",
   "execution_count": null,
   "metadata": {},
   "outputs": [],
   "source": []
  },
  {
   "cell_type": "markdown",
   "metadata": {},
   "source": [
    "## 문제 7\n",
    "person = {'name': 'Alice', 'age': 25, 'city': 'New York'}를 순회하여 key, value 값을 출력해보세요. (반복문, items 사용)"
   ]
  },
  {
   "cell_type": "raw",
   "metadata": {
    "vscode": {
     "languageId": "raw"
    }
   },
   "source": [
    "예상 출력 : \n",
    "\n",
    "name Alice\n",
    "age 25\n",
    "city New York"
   ]
  },
  {
   "cell_type": "code",
   "execution_count": null,
   "metadata": {},
   "outputs": [],
   "source": []
  },
  {
   "cell_type": "markdown",
   "metadata": {},
   "source": [
    "## 문제 8\n",
    "1부터 5까지의 숫자를 키로 하고, 각 숫자의 세제곱을 값으로 하는 딕셔너리를 딕셔너리 컴프리헨션을 사용하여 만드세요. (반복문 사용) "
   ]
  },
  {
   "cell_type": "code",
   "execution_count": null,
   "metadata": {},
   "outputs": [],
   "source": []
  },
  {
   "cell_type": "markdown",
   "metadata": {},
   "source": [
    "## 문제 9\n",
    "prices = {'apple': 2.5, 'banana': 1.8, 'cherry': 3.0}에서 가격이 2.0 이상인 과일만을 담은 딕셔너리를 딕셔너리 컴프리헨션을 이용하여 만드세요. (반복문/조건문 사용)"
   ]
  },
  {
   "cell_type": "code",
   "execution_count": null,
   "metadata": {},
   "outputs": [],
   "source": []
  },
  {
   "cell_type": "markdown",
   "metadata": {},
   "source": [
    "## 문제 10\n",
    "person = {'name': 'Alice', 'age': 25, 'city': 'New York'}에서 'name' 키가 존재하는지, 'email' 키가 존재하는지 확인하세요! (in 연산자 사용)"
   ]
  },
  {
   "cell_type": "code",
   "execution_count": null,
   "metadata": {},
   "outputs": [],
   "source": []
  },
  {
   "cell_type": "markdown",
   "metadata": {},
   "source": [
    "## 문제 11\n",
    "student2의 'age' 값 중 20의 값을 출력하세요."
   ]
  },
  {
   "cell_type": "raw",
   "metadata": {
    "vscode": {
     "languageId": "raw"
    }
   },
   "source": [
    "students = {\n",
    "    'student1': {'name': 'Alice', 'age': [25, 26, 27, 28, 29]},\n",
    "    'student2': {'name': 'Bob', 'age': [18, 19, 20, 21, 22]},\n",
    "    'student3': {'name': 'Charlie', 'age': 23}\n",
    "}"
   ]
  },
  {
   "cell_type": "code",
   "execution_count": null,
   "metadata": {},
   "outputs": [],
   "source": []
  },
  {
   "cell_type": "markdown",
   "metadata": {},
   "source": [
    "# 응용"
   ]
  },
  {
   "cell_type": "markdown",
   "metadata": {},
   "source": [
    "## 문제 1\n",
    "키로 사용할 수 없는 자료형은 아래에서 모두 고르세요."
   ]
  },
  {
   "cell_type": "raw",
   "metadata": {
    "vscode": {
     "languageId": "raw"
    }
   },
   "source": [
    "my_dict = {\n",
    "    [1, 2, 3]: 'This is a list',   --------------------- 1\n",
    "    'name': 'Alice', --------------------- 2\n",
    "    (2, 4) : 'hello', --------------------- 3 \n",
    "    {'age' : 24} : 'pink', --------------------- 4\n",
    "    5 : 'temp int', --------------------- 5 \n",
    "    True : 'False' --------------------- 6\n",
    "}"
   ]
  },
  {
   "cell_type": "raw",
   "metadata": {},
   "source": []
  },
  {
   "cell_type": "markdown",
   "metadata": {},
   "source": [
    "## 문제 2\n",
    "아래와 같은 딕셔너리가 있을 때, 'salary'가 높은 순으로 정렬한 딕셔너리를 출력하세요."
   ]
  },
  {
   "cell_type": "raw",
   "metadata": {
    "vscode": {
     "languageId": "raw"
    }
   },
   "source": [
    "company_info = {\n",
    "    \"V company\" : 4800,\n",
    "    \"D company\" : 4500,\n",
    "    \"L company\" : 5400,\n",
    "    \"K company\" : 5200,\n",
    "    \"S company\" : 4300\n",
    "}\n",
    "\n",
    "출력\n",
    "{'L company': 5400, 'K company': 5200, 'V company': 4800, 'D company': 4500, 'S company': 4300}"
   ]
  },
  {
   "cell_type": "code",
   "execution_count": null,
   "metadata": {},
   "outputs": [],
   "source": []
  },
  {
   "cell_type": "markdown",
   "metadata": {},
   "source": [
    "## 문제 2-1\n",
    "'salary'는 오름차순, 회사명은 알파벳 순으로 정렬한 딕셔너리를 출력하세요"
   ]
  },
  {
   "cell_type": "raw",
   "metadata": {
    "vscode": {
     "languageId": "raw"
    }
   },
   "source": [
    "company_info = {\n",
    "    \"V company\" : 4800,\n",
    "    \"D company\" : 4500,\n",
    "    \"L company\" : 5400,\n",
    "    \"K company\" : 5200,\n",
    "    \"S company\" : 4300\n",
    "}\n",
    "\n",
    "출력\n",
    "{'S company': 4300, 'D company': 4500, 'V company': 4800, 'K company': 5200, 'L company': 5400}"
   ]
  },
  {
   "cell_type": "code",
   "execution_count": null,
   "metadata": {},
   "outputs": [],
   "source": []
  }
 ],
 "metadata": {
  "kernelspec": {
   "display_name": "Python 3",
   "language": "python",
   "name": "python3"
  },
  "language_info": {
   "codemirror_mode": {
    "name": "ipython",
    "version": 3
   },
   "file_extension": ".py",
   "mimetype": "text/x-python",
   "name": "python",
   "nbconvert_exporter": "python",
   "pygments_lexer": "ipython3",
   "version": "3.10.11"
  }
 },
 "nbformat": 4,
 "nbformat_minor": 2
}
