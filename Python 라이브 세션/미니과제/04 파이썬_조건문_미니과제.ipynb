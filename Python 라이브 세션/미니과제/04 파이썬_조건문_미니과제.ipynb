{
 "cells": [
  {
   "cell_type": "markdown",
   "metadata": {},
   "source": [
    "## 문제 1\n",
    "사용자로부터 정수를 입력받은 뒤, 해당 정수가 다음 조건 중 하나에 해당하는지 판별하는 프로그램을 작성하세요.\n",
    "\n",
    "- 3의 배수이면서 동시에 7의 배수인 경우: \"3과 7의 공배수입니다.\" 출력\n",
    "- 3의 배수이지만 7의 배수는 아닌 경우: \"3의 배수입니다.\" 출력\n",
    "- 7의 배수이지만 3의 배수는 아닌 경우: \"7의 배수입니다.\" 출력\n",
    "- 위의 어떤 조건도 만족하지 않으면: \"3과 7의 배수가 아닙니다.\" 출력"
   ]
  },
  {
   "cell_type": "raw",
   "metadata": {
    "vscode": {
     "languageId": "raw"
    }
   },
   "source": [
    "테스트 입력값\n",
    "\n",
    "입력: 21\n",
    "21은 3의 배수이면서 7의 배수 → \"3과 7의 공배수입니다.\"\n",
    "\n",
    "입력: 9\n",
    "9는 3의 배수지만 7의 배수 아님 → \"3의 배수입니다.\"\n",
    "\n",
    "입력: 14\n",
    "14는 7의 배수지만 3의 배수 아님 → \"7의 배수입니다.\"\n",
    "\n",
    "입력: 10\n",
    "3의 배수도, 7의 배수도 아님 → \"3과 7의 배수가 아닙니다.\""
   ]
  },
  {
   "cell_type": "code",
   "execution_count": null,
   "metadata": {},
   "outputs": [
    {
     "name": "stdout",
     "output_type": "stream",
     "text": [
      "3과 7의 배수가 아닙니다.\n"
     ]
    }
   ],
   "source": [
    "A = int(input())\n",
    "\n",
    "if A % 3 == 0:\n",
    "    if A % 7 == 0:\n",
    "        print('3과 7의 공배수입니다.')\n",
    "    else:\n",
    "        print('3의 배수입니다.')\n",
    "if A % 7 == 0 and A % 3 != 0:\n",
    "    print('7의 배수 입니다.')\n",
    "if A % 3 != 0 and A % 7 != 0:\n",
    "    print('3과 7의 배수가 아닙니다.')"
   ]
  },
  {
   "cell_type": "markdown",
   "metadata": {},
   "source": [
    "## 문제 2\n",
    "사용자로부터 문자열을 입력받아, 해당 문자열이 모두 알파벳으로만 이루어져 있으며(공백 없음), 길이가 8 이상인 경우 \"사용 가능한 비밀번호입니다.\"를 출력하고, 그렇지 않으면 \"사용 불가능한 비밀번호입니다.\"를 출력하세요. \n",
    "\n",
    "\n",
    "특이 사항(아래 함수들을 모른다면 google 검색 or chatgpt 검색!!! ex. 파이썬 isalpha() 검색 후 정리된 블로그 글을 보고, 해당 문제에 적용!)\n",
    "1. isaplha() 사용(해당 문자열이 모두 알파벳으로만 이뤄져 있는지 확인하는 함수)\n",
    "2. len() 사용(문자열 길이 측정하는 함수)"
   ]
  },
  {
   "cell_type": "raw",
   "metadata": {
    "vscode": {
     "languageId": "raw"
    }
   },
   "source": [
    "테스트 입력값\n",
    "\n",
    "입력: abcdefgh\n",
    "전부 알파벳, 길이 8 → \"사용 가능한 비밀번호입니다.\"\n",
    "\n",
    "입력: abc123\n",
    "숫자 포함 → \"사용 불가능한 비밀번호입니다.\"\n",
    "\n",
    "입력: abc\n",
    "전부 알파벳이나 길이 3 < 8 → \"사용 불가능한 비밀번호입니다.\""
   ]
  },
  {
   "cell_type": "code",
   "execution_count": 7,
   "metadata": {},
   "outputs": [
    {
     "name": "stdout",
     "output_type": "stream",
     "text": [
      "사용 불가능한 비밀번호입니다.\n"
     ]
    }
   ],
   "source": [
    "user_input = input()\n",
    "\n",
    "if user_input.isalpha() == True and len(user_input) >= 8:\n",
    "    print('사용 가능한 비밀번호입니다.')\n",
    "else:\n",
    "    print('사용 불가능한 비밀번호입니다.')\n"
   ]
  },
  {
   "cell_type": "markdown",
   "metadata": {},
   "source": [
    "## 문제 3\n",
    "사용자로부터 연도를 입력받아 해당 연도가 윤년인지 판단하는 프로그램을 작성하세요.  \n",
    "\n",
    "윤년 판단 규칙:\n",
    "- 연도가 4로 나누어 떨어지고\n",
    "- 100으로 나누어 떨어지지 않거나 400으로 나누어 떨어지면 윤년이다."
   ]
  },
  {
   "cell_type": "raw",
   "metadata": {
    "vscode": {
     "languageId": "raw"
    }
   },
   "source": [
    "테스트 입력값\n",
    "\n",
    "입력: 2020\n",
    "2020 %4=0, %100=20, %400=... 조건 만족 → \"윤년입니다.\"\n",
    "\n",
    "입력: 2100\n",
    "2100 %4=0 but %100=0 and %400=100 → \"윤년이 아닙니다.\"\n",
    "\n",
    "입력: 2000\n",
    "2000 %400=0 → \"윤년입니다.\""
   ]
  },
  {
   "cell_type": "code",
   "execution_count": 10,
   "metadata": {},
   "outputs": [
    {
     "name": "stdout",
     "output_type": "stream",
     "text": [
      "윤년입니다.\n"
     ]
    }
   ],
   "source": [
    "A = int(input())\n",
    "\n",
    "if A % 4 == 0 and A % 100 != 0 or A % 400 ==0:\n",
    "    print('윤년입니다.')\n",
    "else:\n",
    "    print('윤년이 아닙니다.')"
   ]
  },
  {
   "cell_type": "markdown",
   "metadata": {},
   "source": [
    "## 문제 4\n",
    "사용자로부터 두 정수를 입력받아, 만약 두 수 중 하나라도 0이면 \"0으로 나눌 수 없습니다.\"를 출력하고 종료합니다.  \n",
    "둘 다 0이 아니면 두 수의 비율(a/b)을 계산한 뒤,\n",
    "\n",
    "- 비율이 1보다 크면 \"a가 b보다 큽니다.\"\n",
    "- 비율이 1이면 \"두 수는 같습니다.\"\n",
    "- 비율이 1보다 작으면 \"a가 b보다 작습니다.\"\n",
    "를 출력하세요."
   ]
  },
  {
   "cell_type": "raw",
   "metadata": {
    "vscode": {
     "languageId": "raw"
    }
   },
   "source": [
    "테스트 입력값\n",
    "\n",
    "입력: a=10, b=5\n",
    "ratio=10/5=2 >1 → \"a가 b보다 큽니다.\"\n",
    "\n",
    "입력: a=10, b=0\n",
    "b가 0 → \"0으로 나눌 수 없습니다.\"\n",
    "\n",
    "입력: a=5, b=5\n",
    "ratio=1 → \"두 수는 같습니다.\""
   ]
  },
  {
   "cell_type": "code",
   "execution_count": 15,
   "metadata": {},
   "outputs": [
    {
     "name": "stdout",
     "output_type": "stream",
     "text": [
      "a가 b보다 작습니다.\n"
     ]
    }
   ],
   "source": [
    "a,b = map(int,input().split())\n",
    "\n",
    "if a == 0 or b == 0:\n",
    "    print('0으로 나눌 수 없습니다.')\n",
    "else:\n",
    "    if a/b > 1:\n",
    "        print('a가 b보다 큽니다.')\n",
    "    elif a/b == 1:\n",
    "        print('두 수는 같습니다.')\n",
    "    if a/b < 1:\n",
    "        print('a가 b보다 작습니다.')"
   ]
  },
  {
   "cell_type": "markdown",
   "metadata": {},
   "source": [
    "## 문제 5\n",
    "사용자로부터 영문 문자열을 입력받아, 문자열에 대문자와 소문자가 섞여 있는 경우 \"대소문자 섞여 있음\", 전부 소문자면 \"전부 소문자\", 전부 대문자면 \"전부 대문자\"를 출력하세요. 알파벳 외 다른 문자가 포함되어 있다면 \"알파벳 이외의 문자가 있습니다.\"를 출력하세요.\n",
    "\n",
    "특이사항\n",
    "1. isalpha() 사용 (문자열이 알파벳으로만 구성되어 있는지)\n",
    "2. islower() 사용 (문자열이 전부 소문자인지)\n",
    "3. isupper() 사용 (문자열이 전부 대문자인지)"
   ]
  },
  {
   "cell_type": "raw",
   "metadata": {
    "vscode": {
     "languageId": "raw"
    }
   },
   "source": [
    "테스트 입력값\n",
    "\n",
    "입력: \"HELLO\"\n",
    "모두 대문자 → \"전부 대문자\"\n",
    "\n",
    "입력: \"hello\"\n",
    "모두 소문자 → \"전부 소문자\"\n",
    "\n",
    "입력: \"Hello\"\n",
    "대소문자 섞임 → \"대소문자 섞여 있음\"\n",
    "\n",
    "입력: \"Hello!\"\n",
    "알파벳 이외 문자인 '!' 존재 → \"알파벳 이외의 문자가 있습니다.\""
   ]
  },
  {
   "cell_type": "code",
   "execution_count": 19,
   "metadata": {},
   "outputs": [
    {
     "name": "stdout",
     "output_type": "stream",
     "text": [
      "알파벳 이외의 문자가 있습니다.\n"
     ]
    }
   ],
   "source": [
    "user_input = input()\n",
    "\n",
    "if user_input.isalpha():\n",
    "    if user_input.islower():\n",
    "        print('전부 소문자')\n",
    "    elif user_input.isupper():\n",
    "        print('전부 대문자')\n",
    "    else:\n",
    "        print('대소문자 섞여 있음')\n",
    "else:\n",
    "    print('알파벳 이외의 문자가 있습니다.')               "
   ]
  },
  {
   "cell_type": "markdown",
   "metadata": {},
   "source": [
    "## 도전(필수 풀이 아닙니다!)"
   ]
  },
  {
   "cell_type": "markdown",
   "metadata": {},
   "source": [
    "## 문제 1\n",
    "사용자로부터 이메일 주소를 입력받아, '@'문자와 '.'문자가 모두 포함되어 있다면 \"올바른 이메일 형식입니다.\"를 출력하고, 그렇지 않다면 \"올바른 이메일 형식이 아닙니다.\"를 출력하세요.  \n",
    "단, '@'가 문자열의 시작이나 끝에 위치하거나, '.'이 문자열의 시작이나 끝에 위치한다면 역시 \"올바른 이메일 형식이 아닙니다.\"를 출력하세요."
   ]
  },
  {
   "cell_type": "raw",
   "metadata": {
    "vscode": {
     "languageId": "raw"
    }
   },
   "source": [
    "테스트 입력값\n",
    "\n",
    "입력: test@example.com\n",
    "'@','.' 모두 있음, 처음과 끝 '.'이나 '@'아님 → \"올바른 이메일 형식입니다.\"\n",
    "\n",
    "입력: .test@example.com\n",
    "시작이 '.' → \"올바른 이메일 형식이 아닙니다.\"\n",
    "\n",
    "입력: test@examplecom\n",
    "'.' 없음 → \"올바른 이메일 형식이 아닙니다.\""
   ]
  },
  {
   "cell_type": "code",
   "execution_count": 35,
   "metadata": {},
   "outputs": [
    {
     "name": "stdout",
     "output_type": "stream",
     "text": [
      "올바른 이메일 형식입니다.\n"
     ]
    }
   ],
   "source": [
    "email = input()\n",
    "split = list(email)\n",
    "\n",
    "if split[0] == '@' or split[0] == '.' or split[len(email)-1] == '@' or split[len(email)-1] =='.':\n",
    "    print('올바른 이메일 형식이 아닙니다.')\n",
    "else:\n",
    "    if '@' in email and '.' in email:\n",
    "        print('올바른 이메일 형식입니다.')\n",
    "    else:\n",
    "        print('올바른 이메일 형식이 아닙니다.')\n"
   ]
  },
  {
   "cell_type": "markdown",
   "metadata": {},
   "source": [
    "## 문제 2 (반복문 사용)\n",
    "사용자로부터 정수 n을 입력받아, n이 2이상의 소수(prime)인지 판별하는 프로그램을 작성하세요. 소수란 1과 자기 자신으로만 나누어 떨어지는 수를 말합니다.\n",
    "\n",
    "- n이 2 미만이거나 소수가 아니면 \"소수가 아닙니다.\"\n",
    "- 소수이면 \"소수입니다.\" 출력"
   ]
  },
  {
   "cell_type": "raw",
   "metadata": {
    "vscode": {
     "languageId": "raw"
    }
   },
   "source": [
    "테스트 입력값\n",
    "\n",
    "입력: 17\n",
    "소수 → \"소수입니다.\"\n",
    "\n",
    "입력: 20\n",
    "약수 존재 (2,4,5,10등) → \"소수가 아닙니다.\"\n",
    "\n",
    "입력: 1  \n",
    "2 미만 → \"소수가 아닙니다.\"\n",
    "\n",
    "입력: 19\n",
    "소수 → \"소수입니다.\""
   ]
  },
  {
   "cell_type": "code",
   "execution_count": 10,
   "metadata": {},
   "outputs": [
    {
     "name": "stdout",
     "output_type": "stream",
     "text": [
      "소수입니다.\n"
     ]
    }
   ],
   "source": [
    "n = int(input('정수를 입력해주세요: '))\n",
    "\n",
    "if n < 2:\n",
    "    print('소수가 아닙니다.')\n",
    "elif n == 2:\n",
    "     print('소수입니다.')\n",
    "else:\n",
    "    for i in range(2, n):\n",
    "        if n % i == 0:\n",
    "            print('소수가 아닙니다')\n",
    "            break\n",
    "        else:\n",
    "            print('소수입니다.')\n",
    "            break"
   ]
  },
  {
   "cell_type": "code",
   "execution_count": null,
   "metadata": {},
   "outputs": [],
   "source": []
  }
 ],
 "metadata": {
  "kernelspec": {
   "display_name": "Python 3",
   "language": "python",
   "name": "python3"
  },
  "language_info": {
   "codemirror_mode": {
    "name": "ipython",
    "version": 3
   },
   "file_extension": ".py",
   "mimetype": "text/x-python",
   "name": "python",
   "nbconvert_exporter": "python",
   "pygments_lexer": "ipython3",
   "version": "3.10.11"
  }
 },
 "nbformat": 4,
 "nbformat_minor": 2
}
