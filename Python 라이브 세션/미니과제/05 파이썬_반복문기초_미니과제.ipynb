{
 "cells": [
  {
   "cell_type": "markdown",
   "metadata": {},
   "source": [
    "## 문제 1\n",
    "사용자로부터 양의 정수 n을 입력받아, 1부터 n까지의 숫자를 차례대로 출력하는 프로그램을 작성하세요."
   ]
  },
  {
   "cell_type": "raw",
   "metadata": {
    "vscode": {
     "languageId": "raw"
    }
   },
   "source": [
    "테스트 입력값\n",
    "\n",
    "입력: 5\n",
    "출력\n",
    "1\n",
    "2\n",
    "3\n",
    "4\n",
    "5\n",
    "\n",
    "입력: 10\n",
    "출력\n",
    "1\n",
    "2\n",
    "3\n",
    "4\n",
    "5\n",
    "6\n",
    "7\n",
    "8\n",
    "9\n",
    "10"
   ]
  },
  {
   "cell_type": "code",
   "execution_count": null,
   "metadata": {},
   "outputs": [
    {
     "name": "stdout",
     "output_type": "stream",
     "text": [
      "1\n",
      "2\n",
      "3\n",
      "4\n",
      "5\n"
     ]
    }
   ],
   "source": [
    "n = int(input('양의 정수를 입력해주세요: '))\n",
    "\n",
    "for i in range(1,n+1):\n",
    "    print(i)"
   ]
  },
  {
   "cell_type": "markdown",
   "metadata": {},
   "source": [
    "### 문제 1-2\n",
    "사용자로부터 정수 n을 입력받아, n부터 1까지 역순으로 출력하는 프로그램을 작성하세요."
   ]
  },
  {
   "cell_type": "raw",
   "metadata": {
    "vscode": {
     "languageId": "raw"
    }
   },
   "source": [
    "테스트 입력값\n",
    "\n",
    "입력: 5\n",
    "출력\n",
    "5\n",
    "4\n",
    "3\n",
    "2\n",
    "1\n",
    "\n",
    "입력: 3\n",
    "출력\n",
    "3\n",
    "2\n",
    "1"
   ]
  },
  {
   "cell_type": "code",
   "execution_count": null,
   "metadata": {},
   "outputs": [
    {
     "name": "stdout",
     "output_type": "stream",
     "text": [
      "3\n",
      "2\n",
      "1\n"
     ]
    }
   ],
   "source": [
    "n = int(input('양의 정수를 입력해주세요: '))\n",
    "\n",
    "for i in range(n,0,-1):\n",
    "    print(i)"
   ]
  },
  {
   "cell_type": "markdown",
   "metadata": {},
   "source": [
    "## 문제 2\n",
    "사용자로부터 양의 정수 n을 입력받아, 1부터 n까지의 합을 구하여 출력하는 프로그램을 작성하세요."
   ]
  },
  {
   "cell_type": "raw",
   "metadata": {
    "vscode": {
     "languageId": "raw"
    }
   },
   "source": [
    "테스트 입력값\n",
    "\n",
    "입력 : 5\n",
    "출력 : 1부터 5까지의 합은 15\n",
    "\n",
    "입력 : 10\n",
    "출력 : 1부터 10까지의 합은 55"
   ]
  },
  {
   "cell_type": "code",
   "execution_count": 9,
   "metadata": {},
   "outputs": [
    {
     "name": "stdout",
     "output_type": "stream",
     "text": [
      "55\n"
     ]
    }
   ],
   "source": [
    "n = int(input('양의 정수를 입력해주세요: '))\n",
    "sum = 0\n",
    "\n",
    "for i in range(1,n+1):\n",
    "    sum +=i\n",
    "print(sum) "
   ]
  },
  {
   "cell_type": "markdown",
   "metadata": {},
   "source": [
    "## 문제 3\n",
    "1부터 100까지 숫자 중 3의 배수만 출력하는 프로그램을 작성하세요."
   ]
  },
  {
   "cell_type": "raw",
   "metadata": {},
   "source": [
    "테스트 입력값\n",
    "\n",
    "출력\n",
    "3\n",
    "6\n",
    "9\n",
    "....\n",
    "....\n",
    "99"
   ]
  },
  {
   "cell_type": "code",
   "execution_count": 10,
   "metadata": {},
   "outputs": [
    {
     "name": "stdout",
     "output_type": "stream",
     "text": [
      "3\n",
      "6\n",
      "9\n",
      "12\n",
      "15\n",
      "18\n",
      "21\n",
      "24\n",
      "27\n",
      "30\n",
      "33\n",
      "36\n",
      "39\n",
      "42\n",
      "45\n",
      "48\n",
      "51\n",
      "54\n",
      "57\n",
      "60\n",
      "63\n",
      "66\n",
      "69\n",
      "72\n",
      "75\n",
      "78\n",
      "81\n",
      "84\n",
      "87\n",
      "90\n",
      "93\n",
      "96\n",
      "99\n"
     ]
    }
   ],
   "source": [
    "for i in range(3,100,3):\n",
    "    print(i)"
   ]
  },
  {
   "cell_type": "markdown",
   "metadata": {},
   "source": [
    "## 문제 4\n",
    "사용자로부터 정수 n을 입력받아, n의 약수를 모두 출력하는 프로그램을 작성하세요."
   ]
  },
  {
   "cell_type": "raw",
   "metadata": {
    "vscode": {
     "languageId": "raw"
    }
   },
   "source": [
    "테스트 입력값\n",
    "\n",
    "입력: 12 → 출력 : 1 2 3 4 6 12\n",
    "\n",
    "입력: 7 → 출력 : 1 7"
   ]
  },
  {
   "cell_type": "code",
   "execution_count": 13,
   "metadata": {},
   "outputs": [
    {
     "name": "stdout",
     "output_type": "stream",
     "text": [
      "1 7 "
     ]
    }
   ],
   "source": [
    "n = int(input('정수를 입력해주세요: '))\n",
    "\n",
    "for i in range(1,n+1):\n",
    "    if n % i == 0:\n",
    "        print(i, end=' ')"
   ]
  },
  {
   "cell_type": "markdown",
   "metadata": {},
   "source": [
    "## 문제 5\n",
    "사용자로부터 숫자를 계속해서 입력받아 합계를 구하는 프로그램을 작성하되, 사용자가 0을 입력하면 반복을 종료하고 합계를 출력하세요."
   ]
  },
  {
   "cell_type": "raw",
   "metadata": {
    "vscode": {
     "languageId": "raw"
    }
   },
   "source": [
    "테스트 입력값\n",
    "\n",
    "입력 : 5 → 10 → 3 → 0 종료\n",
    "출력 : 18\n",
    "\n",
    "입력: 1 → 1 → 1 → 1 → 0 종료\n",
    "출력 : 4"
   ]
  },
  {
   "cell_type": "code",
   "execution_count": 2,
   "metadata": {},
   "outputs": [
    {
     "name": "stdout",
     "output_type": "stream",
     "text": [
      "4\n"
     ]
    }
   ],
   "source": [
    "user_input = int(input())\n",
    "sum = 0\n",
    "\n",
    "while user_input != 0:\n",
    "    sum += user_input\n",
    "    user_input = int(input())\n",
    "    if user_input == 0:\n",
    "        print(sum)\n",
    "        break"
   ]
  },
  {
   "cell_type": "markdown",
   "metadata": {
    "vscode": {
     "languageId": "raw"
    }
   },
   "source": [
    "## 문제 6\n",
    "사용자로부터 정수 n을 입력받아, 다음과 같이 숫자 피라미드를 출력하는 프로그램을 작성하세요."
   ]
  },
  {
   "cell_type": "raw",
   "metadata": {
    "vscode": {
     "languageId": "raw"
    }
   },
   "source": [
    "n = 4 일 때,\n",
    "\n",
    "1\n",
    "22\n",
    "333\n",
    "4444"
   ]
  },
  {
   "cell_type": "raw",
   "metadata": {
    "vscode": {
     "languageId": "raw"
    }
   },
   "source": [
    "테스트 입력값\n",
    "\n",
    "입력 : 5\n",
    "출력\n",
    "1\n",
    "22\n",
    "333\n",
    "4444\n",
    "55555\n",
    "\n",
    "입력 : 6\n",
    "출력\n",
    "1\n",
    "22\n",
    "333\n",
    "4444\n",
    "55555\n",
    "666666"
   ]
  },
  {
   "cell_type": "raw",
   "metadata": {
    "vscode": {
     "languageId": "raw"
    }
   },
   "source": [
    "정수 * 문자열\n",
    "3 * '3' => 333"
   ]
  },
  {
   "cell_type": "code",
   "execution_count": 18,
   "metadata": {},
   "outputs": [
    {
     "name": "stdout",
     "output_type": "stream",
     "text": [
      "1\n",
      "22\n",
      "333\n",
      "4444\n",
      "55555\n",
      "666666\n"
     ]
    }
   ],
   "source": [
    "n = int(input('정수를 입력해주세요: '))\n",
    "\n",
    "for i in range(1,n+1):\n",
    "    print(str(i)*i)\n",
    "    "
   ]
  },
  {
   "cell_type": "markdown",
   "metadata": {},
   "source": [
    "## 문제 7\n",
    "1부터 100 사이의 임의의 정답 숫자를 정해놓고, 사용자가 숫자를 추측하도록 합니다.  \n",
    "사용자가 입력한 숫자가 정답보다 크면 \"너무 큽니다.\", 작으면 \"너무 작습니다.\"를 출력하고, 정답을 맞추면 \"정답입니다!\"를 출력한 뒤 반복을 종료하세요.  \n",
    "(정답은 코드 내에 직접 지정하거나 난수로 고정)"
   ]
  },
  {
   "cell_type": "raw",
   "metadata": {
    "vscode": {
     "languageId": "raw"
    }
   },
   "source": [
    "테스트 입력값\n",
    "\n",
    "입력: 50 → \"너무 큽니다.\"\n",
    "입력: 30 → \"너무 작습니다.\"\n",
    "입력: 42 → \"정답입니다!\""
   ]
  },
  {
   "cell_type": "code",
   "execution_count": null,
   "metadata": {},
   "outputs": [
    {
     "name": "stdout",
     "output_type": "stream",
     "text": [
      "너무 작습니다.\n",
      "너무 작습니다.\n",
      "너무 작습니다.\n",
      "너무 작습니다.\n",
      "너무 작습니다.\n",
      "너무 큽니다.\n",
      "너무 큽니다.\n",
      "정답입니다!\n"
     ]
    }
   ],
   "source": [
    "answer = 75\n",
    "user_input = 0\n",
    "\n",
    "while user_input != answer:\n",
    "    user_input = int(input('정답을 입력해주세요: '))\n",
    "    if user_input > answer:\n",
    "        print('너무 큽니다.')\n",
    "    elif user_input < answer:\n",
    "        print('너무 작습니다.')\n",
    "    else:\n",
    "        print('정답입니다!')"
   ]
  },
  {
   "cell_type": "markdown",
   "metadata": {},
   "source": [
    "## 문제 8\n",
    "2차원 형태의 반복문을 사용하여 구구단(2단~9단)을 다음과 같이 출력하세요."
   ]
  },
  {
   "cell_type": "raw",
   "metadata": {
    "vscode": {
     "languageId": "raw"
    }
   },
   "source": [
    "테스트 입력값\n",
    "\n",
    "예:\n",
    "2 x 1 = 2\n",
    "2 x 2 = 4\n",
    "...\n",
    "3 x 1 = 3\n",
    "3 x 2 = 6\n",
    "...\n",
    "9 x 8 = 72\n",
    "9 x 9 = 81"
   ]
  },
  {
   "cell_type": "code",
   "execution_count": 31,
   "metadata": {},
   "outputs": [
    {
     "name": "stdout",
     "output_type": "stream",
     "text": [
      "2 x 1 = 2\n",
      "2 x 2 = 4\n",
      "2 x 3 = 6\n",
      "2 x 4 = 8\n",
      "2 x 5 = 10\n",
      "2 x 6 = 12\n",
      "2 x 7 = 14\n",
      "2 x 8 = 16\n",
      "2 x 9 = 18\n",
      "3 x 1 = 3\n",
      "3 x 2 = 6\n",
      "3 x 3 = 9\n",
      "3 x 4 = 12\n",
      "3 x 5 = 15\n",
      "3 x 6 = 18\n",
      "3 x 7 = 21\n",
      "3 x 8 = 24\n",
      "3 x 9 = 27\n",
      "4 x 1 = 4\n",
      "4 x 2 = 8\n",
      "4 x 3 = 12\n",
      "4 x 4 = 16\n",
      "4 x 5 = 20\n",
      "4 x 6 = 24\n",
      "4 x 7 = 28\n",
      "4 x 8 = 32\n",
      "4 x 9 = 36\n",
      "5 x 1 = 5\n",
      "5 x 2 = 10\n",
      "5 x 3 = 15\n",
      "5 x 4 = 20\n",
      "5 x 5 = 25\n",
      "5 x 6 = 30\n",
      "5 x 7 = 35\n",
      "5 x 8 = 40\n",
      "5 x 9 = 45\n",
      "6 x 1 = 6\n",
      "6 x 2 = 12\n",
      "6 x 3 = 18\n",
      "6 x 4 = 24\n",
      "6 x 5 = 30\n",
      "6 x 6 = 36\n",
      "6 x 7 = 42\n",
      "6 x 8 = 48\n",
      "6 x 9 = 54\n",
      "7 x 1 = 7\n",
      "7 x 2 = 14\n",
      "7 x 3 = 21\n",
      "7 x 4 = 28\n",
      "7 x 5 = 35\n",
      "7 x 6 = 42\n",
      "7 x 7 = 49\n",
      "7 x 8 = 56\n",
      "7 x 9 = 63\n",
      "8 x 1 = 8\n",
      "8 x 2 = 16\n",
      "8 x 3 = 24\n",
      "8 x 4 = 32\n",
      "8 x 5 = 40\n",
      "8 x 6 = 48\n",
      "8 x 7 = 56\n",
      "8 x 8 = 64\n",
      "8 x 9 = 72\n",
      "9 x 1 = 9\n",
      "9 x 2 = 18\n",
      "9 x 3 = 27\n",
      "9 x 4 = 36\n",
      "9 x 5 = 45\n",
      "9 x 6 = 54\n",
      "9 x 7 = 63\n",
      "9 x 8 = 72\n",
      "9 x 9 = 81\n"
     ]
    }
   ],
   "source": [
    "for i in range(2,10):\n",
    "    for j in range(1,10):\n",
    "        print(f'{i} x {j} = {i*j}')"
   ]
  },
  {
   "cell_type": "markdown",
   "metadata": {},
   "source": [
    "## 문제 9\n",
    "사용자로부터 문자열로 입력받아, 해당 정수의 각 자릿수의 합을 구하는 프로그램을 작성하세요.  \n",
    "예: 1234 → 1+2+3+4=10  \n",
    "(숫자를 입력받는 것이 아닌! 문자열을 입력받아야 해요!)"
   ]
  },
  {
   "cell_type": "raw",
   "metadata": {
    "vscode": {
     "languageId": "raw"
    }
   },
   "source": [
    "테스트 입력값:\n",
    "\n",
    "입력 : 1234\n",
    "결과 : 10\n",
    "\n",
    "입력 : 999\n",
    "결과 : 27"
   ]
  },
  {
   "cell_type": "code",
   "execution_count": 44,
   "metadata": {},
   "outputs": [
    {
     "name": "stdout",
     "output_type": "stream",
     "text": [
      "27\n"
     ]
    }
   ],
   "source": [
    "A = input('숫자를 입력해주세요: ')\n",
    "list_A = list(A)\n",
    "sum = 0\n",
    "\n",
    "for i in range(len(A)):\n",
    "    sum += int(list_A[i])\n",
    "print(sum)"
   ]
  },
  {
   "cell_type": "code",
   "execution_count": 6,
   "metadata": {},
   "outputs": [
    {
     "name": "stdout",
     "output_type": "stream",
     "text": [
      "10\n"
     ]
    }
   ],
   "source": [
    "A = input()\n",
    "sum = 0\n",
    "\n",
    "for i in A:\n",
    "    sum += int(i)\n",
    "print(sum)"
   ]
  }
 ],
 "metadata": {
  "kernelspec": {
   "display_name": "Python 3",
   "language": "python",
   "name": "python3"
  },
  "language_info": {
   "codemirror_mode": {
    "name": "ipython",
    "version": 3
   },
   "file_extension": ".py",
   "mimetype": "text/x-python",
   "name": "python",
   "nbconvert_exporter": "python",
   "pygments_lexer": "ipython3",
   "version": "3.10.11"
  }
 },
 "nbformat": 4,
 "nbformat_minor": 2
}
