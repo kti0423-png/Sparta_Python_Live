{
 "cells": [
  {
   "cell_type": "code",
   "execution_count": null,
   "id": "5bb35ffa",
   "metadata": {},
   "outputs": [],
   "source": []
  }
 ],
 "metadata": {
  "kernelspec": {
   "display_name": "Python 3",
   "language": "python",
   "name": "python3"
  },
  "language_info": {
   "name": "python",
   "version": "3.10.11"
  }
 },
 "nbformat": 4,
 "nbformat_minor": 5
}
